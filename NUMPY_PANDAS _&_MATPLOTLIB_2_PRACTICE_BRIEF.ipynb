{
 "cells": [
  {
   "cell_type": "code",
   "execution_count": null,
   "id": "f725d277",
   "metadata": {},
   "outputs": [],
   "source": [
    "import numpy as np\n",
    "from numpy import genfromtxt"
   ]
  },
  {
   "cell_type": "code",
   "execution_count": 4,
   "id": "963610f9",
   "metadata": {},
   "outputs": [
    {
     "name": "stdout",
     "output_type": "stream",
     "text": [
      "[[  1.   337.   118.   ...   9.65   1.     0.92]\n",
      " [  2.   324.   107.   ...   8.87   1.     0.76]\n",
      " [  3.   316.   104.   ...   8.     1.     0.72]\n",
      " ...\n",
      " [398.   330.   116.   ...   9.45   1.     0.91]\n",
      " [399.   312.   103.   ...   8.78   0.     0.67]\n",
      " [400.   333.   117.   ...   9.66   1.     0.95]]\n"
     ]
    }
   ],
   "source": [
    "admission = genfromtxt('DS1_C4_S2_Admission_Predict_Practice.csv', delimiter=',', skip_header=True)\n",
    "print(admission)"
   ]
  },
  {
   "cell_type": "markdown",
   "id": "a1a934e6",
   "metadata": {},
   "source": [
    "# TASK 1"
   ]
  },
  {
   "cell_type": "code",
   "execution_count": 87,
   "id": "4ba1b63e",
   "metadata": {},
   "outputs": [],
   "source": [
    "GRE=admission[:,1]\n",
    "#GRE"
   ]
  },
  {
   "cell_type": "code",
   "execution_count": 6,
   "id": "69434996",
   "metadata": {},
   "outputs": [
    {
     "name": "stdout",
     "output_type": "stream",
     "text": [
      "students having  gre score Greater than 320 is:  [337. 324. 322. 330. 321. 323. 325. 327. 328. 325. 328. 334. 336. 340.\n",
      " 322. 327. 338. 340. 331. 332. 326. 322. 329. 339. 321. 327. 334. 324.\n",
      " 322. 325. 325. 327. 328. 332. 336. 321. 329. 327. 340. 322. 340. 331.\n",
      " 332. 323. 322. 326. 329. 338. 331. 321. 327. 335. 334. 323. 326. 333.\n",
      " 339. 323. 333. 326. 329. 332. 331. 340. 325. 326. 339. 334. 332. 321.\n",
      " 324. 326. 329. 322. 334. 322. 323. 321. 329. 327. 335. 331. 324. 324.\n",
      " 323. 322. 336. 340. 334. 325. 328. 338. 333. 331. 330. 322. 321. 324.\n",
      " 324. 324. 330. 326. 325. 329. 324. 325. 328. 324. 321. 335. 321. 324.\n",
      " 326. 331. 327. 324. 325. 327. 322. 329. 321. 340. 331. 336. 324. 330.\n",
      " 322. 323. 321. 323. 325. 328. 324. 327. 323. 326. 324. 327. 325. 332.\n",
      " 323. 324. 326. 325. 327. 321. 322. 334. 338. 330. 324. 336. 321. 322.\n",
      " 324. 340. 335. 326. 329. 324. 325. 330. 333.]\n"
     ]
    }
   ],
   "source": [
    "GRE1=np.where(GRE>320)\n",
    "print('students having  gre score Greater than 320 is: ' ,GRE[GRE1])"
   ]
  },
  {
   "cell_type": "code",
   "execution_count": 7,
   "id": "47b552c8",
   "metadata": {},
   "outputs": [
    {
     "name": "stdout",
     "output_type": "stream",
     "text": [
      "total no of students having GRE no gretaer than 320 :  163\n"
     ]
    }
   ],
   "source": [
    "print('total no of students having GRE no gretaer than 320 : ', GRE1[0].size)"
   ]
  },
  {
   "cell_type": "markdown",
   "id": "356a0e66",
   "metadata": {},
   "source": [
    "# TASK 2"
   ]
  },
  {
   "cell_type": "code",
   "execution_count": 88,
   "id": "7ef6633a",
   "metadata": {},
   "outputs": [],
   "source": [
    "TOEFL=admission[:,2]\n",
    "#TOEFL"
   ]
  },
  {
   "cell_type": "code",
   "execution_count": 9,
   "id": "c41d58e9",
   "metadata": {},
   "outputs": [
    {
     "data": {
      "text/plain": [
       "array([118., 115., 111., 112., 114., 116., 119., 119., 120., 118., 114.,\n",
       "       112., 117., 113., 114., 119., 111., 116., 112., 111., 112., 114.,\n",
       "       115., 118., 112., 111., 114., 112., 120., 115., 115., 120., 119.,\n",
       "       113., 112., 111., 117., 116., 117., 119., 113., 112., 112., 118.,\n",
       "       114., 112., 113., 116., 118., 115., 120., 112., 113., 114., 116.,\n",
       "       114., 116., 112., 111., 117., 113., 111., 111., 119., 113., 118.,\n",
       "       115., 112., 111., 114., 118., 120., 120., 120., 119., 117., 116.,\n",
       "       112., 113., 112., 111., 113., 111., 112., 114., 115., 114., 111.,\n",
       "       115., 114., 119., 111., 113., 113., 111., 112., 116., 118., 114.,\n",
       "       120., 114., 112., 112., 111., 113., 116., 112., 113., 111., 118.,\n",
       "       116., 115., 114., 119., 113., 117., 112., 111., 116., 117.])"
      ]
     },
     "execution_count": 9,
     "metadata": {},
     "output_type": "execute_result"
    }
   ],
   "source": [
    "TOEFL1=np.where(TOEFL>110)\n",
    "TOEFL2=(TOEFL[TOEFL1])\n",
    "TOEFL2"
   ]
  },
  {
   "cell_type": "code",
   "execution_count": 10,
   "id": "125ada54",
   "metadata": {},
   "outputs": [
    {
     "name": "stdout",
     "output_type": "stream",
     "text": [
      "data of students who are having TOEFL more than 110 :\n",
      " [[  1.   337.   118.   ...   9.65   1.     0.92]\n",
      " [  6.   330.   115.   ...   9.34   1.     0.9 ]\n",
      " [ 12.   327.   111.   ...   9.     1.     0.84]\n",
      " ...\n",
      " [395.   329.   111.   ...   9.23   1.     0.89]\n",
      " [398.   330.   116.   ...   9.45   1.     0.91]\n",
      " [400.   333.   117.   ...   9.66   1.     0.95]]\n"
     ]
    }
   ],
   "source": [
    "c=(admission[TOEFL1])\n",
    "print('data of students who are having TOEFL more than 110 :\\n' ,c)"
   ]
  },
  {
   "cell_type": "code",
   "execution_count": 100,
   "id": "d14f2fa8",
   "metadata": {},
   "outputs": [],
   "source": [
    "#print('students having TOEFL more than 310 and their chances of admission : \\n',c[:,[0,1,8]])   **"
   ]
  },
  {
   "cell_type": "markdown",
   "id": "06ee4f91",
   "metadata": {},
   "source": [
    "# TASK 3"
   ]
  },
  {
   "cell_type": "code",
   "execution_count": 14,
   "id": "ce9c9526",
   "metadata": {},
   "outputs": [
    {
     "data": {
      "text/plain": [
       "array([340., 340., 340., 340., 340., 340., 340., 340., 339., 339., 339.])"
      ]
     },
     "execution_count": 14,
     "metadata": {},
     "output_type": "execute_result"
    }
   ],
   "source": [
    "GREsort=np.sort(GRE)[::-1]\n",
    "#GREsort\n",
    "max_GRE=GREsort[:11]\n",
    "max_GRE\n",
    "\n"
   ]
  },
  {
   "cell_type": "code",
   "execution_count": 15,
   "id": "835cd22d",
   "metadata": {},
   "outputs": [],
   "source": [
    "TOEFLsort=np.sort(TOEFL)[::-1]\n",
    "max_TOEFL=TOEFLsort[:8]\n"
   ]
  },
  {
   "cell_type": "markdown",
   "id": "3e28d4b3",
   "metadata": {},
   "source": [
    "# TASK 4"
   ]
  },
  {
   "cell_type": "code",
   "execution_count": 96,
   "id": "0e6ed386",
   "metadata": {},
   "outputs": [],
   "source": [
    "GRE\n",
    "SOP=admission[:,4]\n",
    "SOP\n",
    "RE=admission[:,7]\n"
   ]
  },
  {
   "cell_type": "code",
   "execution_count": 17,
   "id": "bd782f69",
   "metadata": {},
   "outputs": [],
   "source": [
    "fellowship=np.where((GRE>300) & (GRE<305) & (SOP==3.5) & (RE==1))"
   ]
  },
  {
   "cell_type": "code",
   "execution_count": 18,
   "id": "bbb44b5a",
   "metadata": {},
   "outputs": [
    {
     "data": {
      "text/plain": [
       "(array([112, 209, 357], dtype=int64),)"
      ]
     },
     "execution_count": 18,
     "metadata": {},
     "output_type": "execute_result"
    }
   ],
   "source": [
    "fellowship"
   ]
  },
  {
   "cell_type": "code",
   "execution_count": 19,
   "id": "54eb04de",
   "metadata": {},
   "outputs": [],
   "source": [
    "fellowship1=admission[fellowship]"
   ]
  },
  {
   "cell_type": "code",
   "execution_count": 20,
   "id": "d5ce15fd",
   "metadata": {},
   "outputs": [
    {
     "data": {
      "text/plain": [
       "array([[113.  , 301.  , 107.  ,   3.  ,   3.5 ,   3.5 ,   8.34,   1.  ,\n",
       "          0.62],\n",
       "       [210.  , 301.  , 104.  ,   3.  ,   3.5 ,   4.  ,   8.12,   1.  ,\n",
       "          0.68],\n",
       "       [358.  , 301.  , 104.  ,   2.  ,   3.5 ,   3.5 ,   7.89,   1.  ,\n",
       "          0.68]])"
      ]
     },
     "execution_count": 20,
     "metadata": {},
     "output_type": "execute_result"
    }
   ],
   "source": [
    "fellowship1"
   ]
  },
  {
   "cell_type": "code",
   "execution_count": 21,
   "id": "1fdb581e",
   "metadata": {},
   "outputs": [
    {
     "name": "stdout",
     "output_type": "stream",
     "text": [
      "to offer fellowship the serial no.s and TOEFL score n of students is:\n",
      " [[113. 107.]\n",
      " [210. 104.]\n",
      " [358. 104.]]\n"
     ]
    }
   ],
   "source": [
    "print('to offer fellowship the serial no.s and TOEFL score n of students is:\\n', fellowship1[:,[0,2]])"
   ]
  },
  {
   "cell_type": "markdown",
   "id": "6ace6a1d",
   "metadata": {},
   "source": [
    "# TASK 5"
   ]
  },
  {
   "cell_type": "code",
   "execution_count": 86,
   "id": "67970977",
   "metadata": {},
   "outputs": [
    {
     "data": {
      "text/plain": [
       "400"
      ]
     },
     "execution_count": 86,
     "metadata": {},
     "output_type": "execute_result"
    }
   ],
   "source": [
    "serial_no=admission[0:,0]\n",
    "serial_no\n",
    "serial_no.size"
   ]
  },
  {
   "cell_type": "code",
   "execution_count": 23,
   "id": "025a33b2",
   "metadata": {},
   "outputs": [],
   "source": [
    "scholarship=np.random.randint(5000,10000,size=(400,1))"
   ]
  },
  {
   "cell_type": "code",
   "execution_count": 92,
   "id": "3bb610fa",
   "metadata": {},
   "outputs": [],
   "source": [
    "#scholarship"
   ]
  },
  {
   "cell_type": "code",
   "execution_count": 25,
   "id": "e0d8f9da",
   "metadata": {},
   "outputs": [],
   "source": [
    "admission_new=np.concatenate((admission,scholarship),axis=1)"
   ]
  },
  {
   "cell_type": "code",
   "execution_count": 26,
   "id": "1c93b006",
   "metadata": {},
   "outputs": [],
   "source": [
    "admission_new=np.array(admission_new,dtype=np.int64) #it is used to remove that 23e+1313 type of data"
   ]
  },
  {
   "cell_type": "code",
   "execution_count": 27,
   "id": "7a330f74",
   "metadata": {},
   "outputs": [
    {
     "data": {
      "text/plain": [
       "array([[   1,  337,  118, ...,    1,    0, 8090],\n",
       "       [   2,  324,  107, ...,    1,    0, 5235],\n",
       "       [   3,  316,  104, ...,    1,    0, 6981],\n",
       "       ...,\n",
       "       [ 398,  330,  116, ...,    1,    0, 5505],\n",
       "       [ 399,  312,  103, ...,    0,    0, 9176],\n",
       "       [ 400,  333,  117, ...,    1,    0, 7225]], dtype=int64)"
      ]
     },
     "execution_count": 27,
     "metadata": {},
     "output_type": "execute_result"
    }
   ],
   "source": [
    "admission_new"
   ]
  },
  {
   "cell_type": "code",
   "execution_count": 28,
   "id": "8efb4f53",
   "metadata": {},
   "outputs": [],
   "source": [
    "no_of_Scholar=np.where(scholarship>9000)"
   ]
  },
  {
   "cell_type": "code",
   "execution_count": 29,
   "id": "95b15ffd",
   "metadata": {},
   "outputs": [
    {
     "name": "stdout",
     "output_type": "stream",
     "text": [
      "no of students who recived sholarship more than 9000 are :  82\n"
     ]
    }
   ],
   "source": [
    "print('no of students who recived sholarship more than 9000 are : ' , no_of_Scholar[0].size)"
   ]
  },
  {
   "cell_type": "markdown",
   "id": "8e642d01",
   "metadata": {},
   "source": [
    "# TASK 6"
   ]
  },
  {
   "cell_type": "code",
   "execution_count": 30,
   "id": "fbd61e23",
   "metadata": {},
   "outputs": [],
   "source": [
    "index=np.where(scholarship>9000)\n"
   ]
  },
  {
   "cell_type": "code",
   "execution_count": 31,
   "id": "2e7a6bde",
   "metadata": {},
   "outputs": [],
   "source": [
    "g=scholarship[index]"
   ]
  },
  {
   "cell_type": "code",
   "execution_count": 32,
   "id": "c61ea221",
   "metadata": {},
   "outputs": [],
   "source": [
    "index[0]\n",
    "mo=admission_new[index[0]]"
   ]
  },
  {
   "cell_type": "code",
   "execution_count": 93,
   "id": "7dd47f79",
   "metadata": {},
   "outputs": [],
   "source": [
    "#print(mo[:,[0,4,5,9]]) **"
   ]
  },
  {
   "cell_type": "markdown",
   "id": "6116a51d",
   "metadata": {},
   "source": [
    "# TASK 7"
   ]
  },
  {
   "cell_type": "code",
   "execution_count": 34,
   "id": "a3248689",
   "metadata": {},
   "outputs": [],
   "source": [
    "u=np.where((GRE>314) & (TOEFL>115) & (RE==1))"
   ]
  },
  {
   "cell_type": "code",
   "execution_count": 35,
   "id": "f2b76b80",
   "metadata": {},
   "outputs": [
    {
     "data": {
      "text/plain": [
       "(array([  0,  22,  23,  24,  25,  32,  52,  70,  81,  97,  98, 107, 108,\n",
       "        120, 121, 129, 138, 141, 143, 148, 151, 171, 176, 187, 193, 202,\n",
       "        203, 212, 213, 214, 215, 259, 285, 286, 325, 337, 361, 372, 385,\n",
       "        397, 399], dtype=int64),)"
      ]
     },
     "execution_count": 35,
     "metadata": {},
     "output_type": "execute_result"
    }
   ],
   "source": [
    "u"
   ]
  },
  {
   "cell_type": "code",
   "execution_count": 36,
   "id": "6842d9fa",
   "metadata": {},
   "outputs": [],
   "source": [
    "extra_scholar=admission_new[u]"
   ]
  },
  {
   "cell_type": "code",
   "execution_count": 94,
   "id": "9539c311",
   "metadata": {},
   "outputs": [],
   "source": [
    "#extra_scholar[:,[0,1,2,7,9]] **"
   ]
  },
  {
   "cell_type": "code",
   "execution_count": 38,
   "id": "f99e9780",
   "metadata": {},
   "outputs": [
    {
     "data": {
      "text/plain": [
       "41"
      ]
     },
     "execution_count": 38,
     "metadata": {},
     "output_type": "execute_result"
    }
   ],
   "source": [
    "u[0].size"
   ]
  },
  {
   "cell_type": "code",
   "execution_count": 39,
   "id": "6b1d7818",
   "metadata": {},
   "outputs": [],
   "source": [
    "# np.add((1000,scholarship)(where((GRE>314) & (TOEFL>115) & (RE==1))"
   ]
  },
  {
   "cell_type": "code",
   "execution_count": 40,
   "id": "c25fc8cb",
   "metadata": {},
   "outputs": [
    {
     "data": {
      "text/plain": [
       "array([8090, 6299, 5896, 8605, 5530, 6510, 7576, 9409, 5917, 5236, 8276,\n",
       "       8044, 6614, 7863, 5316, 7646, 6814, 7344, 7916, 6993, 5061, 5205,\n",
       "       7510, 9226, 9955, 8572, 6656, 8652, 8438, 9040, 8060, 9779, 8735,\n",
       "       5339, 5119, 9244, 8203, 7793, 5922, 5505, 7225], dtype=int64)"
      ]
     },
     "execution_count": 40,
     "metadata": {},
     "output_type": "execute_result"
    }
   ],
   "source": [
    "ns=admission_new[u][:,9]\n",
    "ns"
   ]
  },
  {
   "cell_type": "code",
   "execution_count": 84,
   "id": "f8c21bd8",
   "metadata": {},
   "outputs": [],
   "source": [
    "admission_new[u][:,9]=ns+1000"
   ]
  },
  {
   "cell_type": "markdown",
   "id": "08b0a678",
   "metadata": {},
   "source": [
    "# TASK 8"
   ]
  },
  {
   "cell_type": "code",
   "execution_count": 42,
   "id": "03341845",
   "metadata": {},
   "outputs": [],
   "source": [
    "CGPA=admission[:,6]"
   ]
  },
  {
   "cell_type": "code",
   "execution_count": 83,
   "id": "2dc7d2f4",
   "metadata": {},
   "outputs": [],
   "source": [
    "#CGPA **"
   ]
  },
  {
   "cell_type": "code",
   "execution_count": 44,
   "id": "4fe46d65",
   "metadata": {},
   "outputs": [],
   "source": [
    "CGPA1=np.where((CGPA>8) & (CGPA<8.5))"
   ]
  },
  {
   "cell_type": "code",
   "execution_count": 45,
   "id": "43ac239d",
   "metadata": {},
   "outputs": [
    {
     "data": {
      "text/plain": [
       "(array([  4,   6,  10,  14,  15,  21,  30,  31,  36,  41,  49,  50,  53,\n",
       "         59,  60,  61,  62,  77,  80,  86,  87,  88,  92, 100, 101, 102,\n",
       "        103, 110, 112, 114, 122, 123, 124, 136, 137, 146, 149, 156, 157,\n",
       "        158, 166, 167, 170, 178, 179, 180, 181, 184, 196, 197, 198, 201,\n",
       "        207, 208, 209, 219, 223, 224, 225, 226, 231, 232, 233, 238, 241,\n",
       "        247, 255, 261, 262, 266, 267, 269, 270, 273, 278, 293, 294, 302,\n",
       "        304, 313, 314, 315, 317, 321, 322, 323, 324, 326, 331, 332, 340,\n",
       "        342, 343, 349, 350, 352, 353, 355, 359, 363, 366, 369, 370, 379,\n",
       "        383, 387, 389, 390], dtype=int64),)"
      ]
     },
     "execution_count": 45,
     "metadata": {},
     "output_type": "execute_result"
    }
   ],
   "source": [
    "CGPA1"
   ]
  },
  {
   "cell_type": "code",
   "execution_count": 46,
   "id": "f036e388",
   "metadata": {},
   "outputs": [
    {
     "data": {
      "text/plain": [
       "108"
      ]
     },
     "execution_count": 46,
     "metadata": {},
     "output_type": "execute_result"
    }
   ],
   "source": [
    "CGPA1[0].size # count of CGPA "
   ]
  },
  {
   "cell_type": "code",
   "execution_count": 47,
   "id": "e096cb6a",
   "metadata": {},
   "outputs": [],
   "source": [
    "CG=admission[CGPA1]"
   ]
  },
  {
   "cell_type": "code",
   "execution_count": 95,
   "id": "e01cb657",
   "metadata": {},
   "outputs": [],
   "source": [
    "CG=np.array(CG,dtype=np.int64)\n",
    "#CG"
   ]
  },
  {
   "cell_type": "code",
   "execution_count": 49,
   "id": "83b3a057",
   "metadata": {},
   "outputs": [
    {
     "data": {
      "text/plain": [
       "108"
      ]
     },
     "execution_count": 49,
     "metadata": {},
     "output_type": "execute_result"
    }
   ],
   "source": [
    "CG[:,6].size # count through the column"
   ]
  },
  {
   "cell_type": "markdown",
   "id": "4987b56f",
   "metadata": {},
   "source": [
    "# TASK 9"
   ]
  },
  {
   "cell_type": "code",
   "execution_count": 50,
   "id": "a85cf744",
   "metadata": {},
   "outputs": [],
   "source": [
    "SOP=admission[:,4]\n",
    "LOR=admission[:,5]\n",
    "m_SOP= np.mean(SOP)\n",
    "m_LOR=np.mean(LOR)"
   ]
  },
  {
   "cell_type": "code",
   "execution_count": 51,
   "id": "39b7e063",
   "metadata": {},
   "outputs": [
    {
     "name": "stdout",
     "output_type": "stream",
     "text": [
      "average of SOP is :  3.4\n",
      "average of LOR is :  3.4525\n"
     ]
    }
   ],
   "source": [
    "print('average of SOP is : ',m_SOP)\n",
    "print('average of LOR is : ',m_LOR)"
   ]
  },
  {
   "cell_type": "code",
   "execution_count": 52,
   "id": "5d435252",
   "metadata": {},
   "outputs": [],
   "source": [
    "x=round((m_LOR-m_SOP)/m_LOR*100,3)"
   ]
  },
  {
   "cell_type": "code",
   "execution_count": 53,
   "id": "51f959f1",
   "metadata": {},
   "outputs": [
    {
     "name": "stdout",
     "output_type": "stream",
     "text": [
      "average LOR is more than SOP score by :  1.521\n"
     ]
    }
   ],
   "source": [
    "print('average LOR is more than SOP score by : ' , x)"
   ]
  },
  {
   "cell_type": "markdown",
   "id": "c04a3ce0",
   "metadata": {},
   "source": [
    "# TASK 10"
   ]
  },
  {
   "cell_type": "code",
   "execution_count": 82,
   "id": "4be4724c",
   "metadata": {},
   "outputs": [],
   "source": [
    "#scholarship"
   ]
  },
  {
   "cell_type": "code",
   "execution_count": 71,
   "id": "61bcd7bd",
   "metadata": {},
   "outputs": [
    {
     "name": "stdout",
     "output_type": "stream",
     "text": [
      "mean=  7524.1475\n",
      "median=  7477.0\n",
      "maximum=  9998\n",
      "minimum=  5004\n",
      "standard deviation=  1438.672\n",
      "variance =  2069777.391\n"
     ]
    }
   ],
   "source": [
    "print('mean= ',np.mean(scholarship))\n",
    "print('median= ', np.median(scholarship))\n",
    "print('maximum= ',np.max(scholarship))\n",
    "print('minimum= ',np.min(scholarship))\n",
    "print('standard deviation= ',round(np.std(scholarship),3))\n",
    "print('variance = ', round(np.var(scholarship),3))\n",
    "#print('co variance=', np.cov(scholarship))"
   ]
  },
  {
   "cell_type": "markdown",
   "id": "bd52eb6d",
   "metadata": {},
   "source": [
    "# TASK 11"
   ]
  },
  {
   "cell_type": "code",
   "execution_count": 81,
   "id": "6d48c9e4",
   "metadata": {},
   "outputs": [],
   "source": [
    "chance=admission[:,8]\n",
    "#chance"
   ]
  },
  {
   "cell_type": "code",
   "execution_count": 75,
   "id": "846d939b",
   "metadata": {},
   "outputs": [],
   "source": [
    "admission_chance=np.where(chance>0.95)\n",
    "            "
   ]
  },
  {
   "cell_type": "code",
   "execution_count": 78,
   "id": "f68210c3",
   "metadata": {},
   "outputs": [
    {
     "data": {
      "text/plain": [
       "array([0.97, 0.96, 0.96, 0.96, 0.97, 0.96, 0.97, 0.97, 0.96, 0.96, 0.96])"
      ]
     },
     "execution_count": 78,
     "metadata": {},
     "output_type": "execute_result"
    }
   ],
   "source": [
    "chance[admission_chance]"
   ]
  },
  {
   "cell_type": "code",
   "execution_count": 79,
   "id": "c865b945",
   "metadata": {},
   "outputs": [
    {
     "name": "stdout",
     "output_type": "stream",
     "text": [
      "[[336.   119.     9.8    0.97]\n",
      " [336.   112.     9.76   0.96]\n",
      " [340.   120.     9.5    0.96]\n",
      " [339.   114.     9.76   0.96]\n",
      " [340.   120.     9.92   0.97]\n",
      " [339.   116.     9.8    0.96]\n",
      " [340.   120.     9.91   0.97]\n",
      " [334.   120.     9.87   0.97]\n",
      " [333.   119.     9.78   0.96]\n",
      " [340.   113.     9.74   0.96]\n",
      " [335.   117.     9.82   0.96]]\n"
     ]
    }
   ],
   "source": [
    "print(admission[admission_chance][:,[1,2,6,8]])"
   ]
  },
  {
   "cell_type": "code",
   "execution_count": null,
   "id": "360590fb",
   "metadata": {},
   "outputs": [],
   "source": []
  }
 ],
 "metadata": {
  "kernelspec": {
   "display_name": "Python 3 (ipykernel)",
   "language": "python",
   "name": "python3"
  },
  "language_info": {
   "codemirror_mode": {
    "name": "ipython",
    "version": 3
   },
   "file_extension": ".py",
   "mimetype": "text/x-python",
   "name": "python",
   "nbconvert_exporter": "python",
   "pygments_lexer": "ipython3",
   "version": "3.10.2"
  }
 },
 "nbformat": 4,
 "nbformat_minor": 5
}
