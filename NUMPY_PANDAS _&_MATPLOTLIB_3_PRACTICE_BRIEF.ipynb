{
 "cells": [
  {
   "cell_type": "code",
   "execution_count": 1,
   "id": "9716f2a3",
   "metadata": {},
   "outputs": [],
   "source": [
    "import numpy as np\n",
    "import pandas as pd"
   ]
  },
  {
   "cell_type": "markdown",
   "id": "d381ee7b",
   "metadata": {},
   "source": [
    "# TASK 1 & 2"
   ]
  },
  {
   "cell_type": "code",
   "execution_count": 2,
   "id": "7887a9e3",
   "metadata": {
    "scrolled": true
   },
   "outputs": [
    {
     "name": "stdout",
     "output_type": "stream",
     "text": [
      "0    50\n",
      "1    60\n",
      "2    70\n",
      "3    80\n",
      "4    90\n",
      "5    99\n",
      "6    88\n",
      "7    77\n",
      "8    66\n",
      "9    55\n",
      "Name: mmarks, dtype: int64\n"
     ]
    },
    {
     "data": {
      "text/html": [
       "<div>\n",
       "<style scoped>\n",
       "    .dataframe tbody tr th:only-of-type {\n",
       "        vertical-align: middle;\n",
       "    }\n",
       "\n",
       "    .dataframe tbody tr th {\n",
       "        vertical-align: top;\n",
       "    }\n",
       "\n",
       "    .dataframe thead th {\n",
       "        text-align: right;\n",
       "    }\n",
       "</style>\n",
       "<table border=\"1\" class=\"dataframe\">\n",
       "  <thead>\n",
       "    <tr style=\"text-align: right;\">\n",
       "      <th></th>\n",
       "      <th>mmarks</th>\n",
       "      <th>pmarks</th>\n",
       "    </tr>\n",
       "  </thead>\n",
       "  <tbody>\n",
       "    <tr>\n",
       "      <th>0</th>\n",
       "      <td>50</td>\n",
       "      <td>45</td>\n",
       "    </tr>\n",
       "    <tr>\n",
       "      <th>1</th>\n",
       "      <td>60</td>\n",
       "      <td>67</td>\n",
       "    </tr>\n",
       "    <tr>\n",
       "      <th>2</th>\n",
       "      <td>70</td>\n",
       "      <td>60</td>\n",
       "    </tr>\n",
       "    <tr>\n",
       "      <th>3</th>\n",
       "      <td>80</td>\n",
       "      <td>87</td>\n",
       "    </tr>\n",
       "    <tr>\n",
       "      <th>4</th>\n",
       "      <td>90</td>\n",
       "      <td>93</td>\n",
       "    </tr>\n",
       "    <tr>\n",
       "      <th>5</th>\n",
       "      <td>99</td>\n",
       "      <td>87</td>\n",
       "    </tr>\n",
       "    <tr>\n",
       "      <th>6</th>\n",
       "      <td>88</td>\n",
       "      <td>96</td>\n",
       "    </tr>\n",
       "    <tr>\n",
       "      <th>7</th>\n",
       "      <td>77</td>\n",
       "      <td>55</td>\n",
       "    </tr>\n",
       "    <tr>\n",
       "      <th>8</th>\n",
       "      <td>66</td>\n",
       "      <td>49</td>\n",
       "    </tr>\n",
       "    <tr>\n",
       "      <th>9</th>\n",
       "      <td>55</td>\n",
       "      <td>75</td>\n",
       "    </tr>\n",
       "  </tbody>\n",
       "</table>\n",
       "</div>"
      ],
      "text/plain": [
       "   mmarks  pmarks\n",
       "0      50      45\n",
       "1      60      67\n",
       "2      70      60\n",
       "3      80      87\n",
       "4      90      93\n",
       "5      99      87\n",
       "6      88      96\n",
       "7      77      55\n",
       "8      66      49\n",
       "9      55      75"
      ]
     },
     "execution_count": 2,
     "metadata": {},
     "output_type": "execute_result"
    }
   ],
   "source": [
    "marks = {\n",
    "    \"mmarks\":[50,60,70,80,90,99,88,77,66,55],\n",
    "    \"pmarks\":[45,67,60,87,93,87,96,55,49,75]\n",
    "}\n",
    "\n",
    "#loading marks data into the DataFrame\n",
    "\n",
    "mks = pd.DataFrame(marks)\n",
    "\n",
    "# TASK 1\n",
    "\n",
    "print(mks.mmarks)\n",
    "mks"
   ]
  },
  {
   "cell_type": "code",
   "execution_count": 3,
   "id": "0985b888",
   "metadata": {},
   "outputs": [
    {
     "name": "stdout",
     "output_type": "stream",
     "text": [
      "0     95\n",
      "1    127\n",
      "2    130\n",
      "3    167\n",
      "4    183\n",
      "5    186\n",
      "6    184\n",
      "7    132\n",
      "8    115\n",
      "9    130\n",
      "dtype: int64\n",
      "0    False\n",
      "1    False\n",
      "2    False\n",
      "3     True\n",
      "4     True\n",
      "5     True\n",
      "6     True\n",
      "7    False\n",
      "8    False\n",
      "9    False\n",
      "dtype: bool\n"
     ]
    }
   ],
   "source": [
    "#TASK 2\n",
    "\n",
    "total = mks['mmarks'] + mks['pmarks']\n",
    "print(total)\n",
    "\n",
    "oq = total>150\n",
    "print(oq)"
   ]
  },
  {
   "cell_type": "markdown",
   "id": "d66c6595",
   "metadata": {},
   "source": [
    "# TASK 3"
   ]
  },
  {
   "cell_type": "code",
   "execution_count": 4,
   "id": "d5e6245f",
   "metadata": {},
   "outputs": [
    {
     "data": {
      "text/plain": [
       "mmarks    73.5\n",
       "pmarks    71.4\n",
       "dtype: float64"
      ]
     },
     "execution_count": 4,
     "metadata": {},
     "output_type": "execute_result"
    }
   ],
   "source": [
    "#DIFFERENCE\n",
    "mks.mean()"
   ]
  },
  {
   "cell_type": "markdown",
   "id": "eabd4277",
   "metadata": {},
   "source": [
    "# TASK 4"
   ]
  },
  {
   "cell_type": "code",
   "execution_count": 5,
   "id": "67331bde",
   "metadata": {},
   "outputs": [
    {
     "data": {
      "text/plain": [
       "101    30872\n",
       "102    32981\n",
       "103    37442\n",
       "104    43281\n",
       "105    35926\n",
       "106    30148\n",
       "107    32133\n",
       "108    48831\n",
       "109    33389\n",
       "110    45746\n",
       "111    31949\n",
       "112    38794\n",
       "113    34900\n",
       "114    37315\n",
       "115    36224\n",
       "116    42044\n",
       "117    34045\n",
       "118    43901\n",
       "119    31569\n",
       "120    39567\n",
       "dtype: int32"
      ]
     },
     "execution_count": 5,
     "metadata": {},
     "output_type": "execute_result"
    }
   ],
   "source": [
    "price = np.random.randint(30000,50000,20)\n",
    "cars = pd.Series(price, index = np.arange(101,121))\n",
    "cars"
   ]
  },
  {
   "cell_type": "markdown",
   "id": "b4804e4c",
   "metadata": {},
   "source": [
    "# TASK 5"
   ]
  },
  {
   "cell_type": "code",
   "execution_count": 6,
   "id": "fb70c966",
   "metadata": {},
   "outputs": [
    {
     "data": {
      "text/plain": [
       "104    43281\n",
       "108    48831\n",
       "110    45746\n",
       "116    42044\n",
       "118    43901\n",
       "dtype: int32"
      ]
     },
     "execution_count": 6,
     "metadata": {},
     "output_type": "execute_result"
    }
   ],
   "source": [
    "mcr40 = cars[cars > 40000]\n",
    "mcr40\n",
    "\n",
    "#CARS OF PRICE ABOVE 40000!"
   ]
  },
  {
   "cell_type": "markdown",
   "id": "f29bb0bd",
   "metadata": {},
   "source": [
    "# TASK 6"
   ]
  },
  {
   "cell_type": "code",
   "execution_count": 7,
   "id": "5b77d38b",
   "metadata": {},
   "outputs": [
    {
     "data": {
      "text/plain": [
       "116    42044\n",
       "112    38794\n",
       "114    37315\n",
       "115    36224\n",
       "113    34900\n",
       "111    31949\n",
       "dtype: int32"
      ]
     },
     "execution_count": 7,
     "metadata": {},
     "output_type": "execute_result"
    }
   ],
   "source": [
    "#CARS WITH HIGHEST PRICE (BETWEEN MODEL NUMBER 111 TO 116)\n",
    "\n",
    "sorted1116 = cars.loc[111:116]\n",
    "\n",
    "sorted1116.sort_values(ascending=False)"
   ]
  },
  {
   "cell_type": "markdown",
   "id": "988c2e7a",
   "metadata": {},
   "source": [
    "# TASK 7"
   ]
  },
  {
   "cell_type": "code",
   "execution_count": 8,
   "id": "f8bd3267",
   "metadata": {
    "scrolled": false
   },
   "outputs": [
    {
     "name": "stdout",
     "output_type": "stream",
     "text": [
      "101     True\n",
      "102     True\n",
      "103     True\n",
      "104    False\n",
      "105     True\n",
      "106     True\n",
      "107     True\n",
      "108    False\n",
      "109     True\n",
      "110    False\n",
      "111     True\n",
      "112     True\n",
      "113     True\n",
      "114     True\n",
      "115     True\n",
      "116    False\n",
      "117     True\n",
      "118    False\n",
      "119     True\n",
      "120     True\n",
      "dtype: bool\n",
      "101    30872\n",
      "102    32981\n",
      "103    37442\n",
      "105    35926\n",
      "106    30148\n",
      "107    32133\n",
      "109    33389\n",
      "111    31949\n",
      "112    38794\n",
      "113    34900\n",
      "114    37315\n",
      "115    36224\n",
      "117    34045\n",
      "119    31569\n",
      "120    39567\n",
      "dtype: int32\n"
     ]
    }
   ],
   "source": [
    "CB = cars.between(30000,40000,inclusive = 'both')\n",
    "print(CB)\n",
    "print(cars[CB]) #cars price between 30000 to 40000"
   ]
  },
  {
   "cell_type": "markdown",
   "id": "ec315fe0",
   "metadata": {},
   "source": [
    "# TASK 8"
   ]
  },
  {
   "cell_type": "code",
   "execution_count": 9,
   "id": "6ad676f0",
   "metadata": {},
   "outputs": [
    {
     "data": {
      "text/plain": [
       "37052.85"
      ]
     },
     "execution_count": 9,
     "metadata": {},
     "output_type": "execute_result"
    }
   ],
   "source": [
    "#Average of cars\n",
    "cm = cars.mean()\n",
    "cm"
   ]
  },
  {
   "cell_type": "code",
   "execution_count": 10,
   "id": "33e218db",
   "metadata": {},
   "outputs": [
    {
     "data": {
      "text/plain": [
       "103    37442\n",
       "104    43281\n",
       "108    48831\n",
       "110    45746\n",
       "112    38794\n",
       "114    37315\n",
       "116    42044\n",
       "118    43901\n",
       "120    39567\n",
       "dtype: int32"
      ]
     },
     "execution_count": 10,
     "metadata": {},
     "output_type": "execute_result"
    }
   ],
   "source": [
    "cars[cars>cm]"
   ]
  },
  {
   "cell_type": "markdown",
   "id": "f5d5e417",
   "metadata": {},
   "source": [
    "# TASK 9"
   ]
  },
  {
   "cell_type": "code",
   "execution_count": 11,
   "id": "ed42eb71",
   "metadata": {},
   "outputs": [],
   "source": [
    "# new_Ser.update(pd.Series([25000, 28000], index = ['Benjamin', 'Warner']))\n",
    "# new_Ser"
   ]
  },
  {
   "cell_type": "code",
   "execution_count": 12,
   "id": "33e707ef",
   "metadata": {},
   "outputs": [
    {
     "name": "stdout",
     "output_type": "stream",
     "text": [
      "201    34000\n",
      "202    45000\n",
      "203    54000\n",
      "dtype: int64\n"
     ]
    },
    {
     "data": {
      "text/plain": [
       "101    30872\n",
       "102    32981\n",
       "103    37442\n",
       "104    43281\n",
       "105    35926\n",
       "106    30148\n",
       "107    32133\n",
       "108    48831\n",
       "109    33389\n",
       "110    45746\n",
       "111    31949\n",
       "112    38794\n",
       "113    34900\n",
       "114    37315\n",
       "115    36224\n",
       "116    42044\n",
       "117    34045\n",
       "118    43901\n",
       "119    31569\n",
       "120    39567\n",
       "201    34000\n",
       "202    45000\n",
       "203    54000\n",
       "dtype: int64"
      ]
     },
     "execution_count": 12,
     "metadata": {},
     "output_type": "execute_result"
    }
   ],
   "source": [
    "newi = [201,202,203]\n",
    "newp = [34000,45000,54000]\n",
    "newip = pd.Series(newp, index = newi)\n",
    "\n",
    "print(newip)\n",
    "\n",
    "pd.concat([cars,newip],axis = 0)"
   ]
  },
  {
   "cell_type": "markdown",
   "id": "318d82e1",
   "metadata": {},
   "source": [
    "# TASK 10"
   ]
  },
  {
   "cell_type": "code",
   "execution_count": 13,
   "id": "8070e024",
   "metadata": {},
   "outputs": [
    {
     "data": {
      "text/plain": [
       "104    38952.9\n",
       "108    43947.9\n",
       "110    41171.4\n",
       "116    37839.6\n",
       "118    39510.9\n",
       "dtype: float64"
      ]
     },
     "execution_count": 13,
     "metadata": {},
     "output_type": "execute_result"
    }
   ],
   "source": [
    "discount = mcr40*0.9\n",
    "discount"
   ]
  },
  {
   "cell_type": "code",
   "execution_count": 14,
   "id": "88a13839",
   "metadata": {},
   "outputs": [
    {
     "data": {
      "text/plain": [
       "104    43281\n",
       "108    48831\n",
       "110    45746\n",
       "116    42044\n",
       "118    43901\n",
       "dtype: int32"
      ]
     },
     "execution_count": 14,
     "metadata": {},
     "output_type": "execute_result"
    }
   ],
   "source": [
    "mcr40"
   ]
  },
  {
   "cell_type": "markdown",
   "id": "9e76e456",
   "metadata": {},
   "source": [
    "# TASK 11"
   ]
  },
  {
   "cell_type": "code",
   "execution_count": 15,
   "id": "196e050c",
   "metadata": {},
   "outputs": [
    {
     "data": {
      "text/plain": [
       "101    False\n",
       "102    False\n",
       "103    False\n",
       "104    False\n",
       "105    False\n",
       "106    False\n",
       "107    False\n",
       "108    False\n",
       "109    False\n",
       "110    False\n",
       "111    False\n",
       "112    False\n",
       "113    False\n",
       "114    False\n",
       "115    False\n",
       "116    False\n",
       "117    False\n",
       "118    False\n",
       "119    False\n",
       "120    False\n",
       "dtype: bool"
      ]
     },
     "execution_count": 15,
     "metadata": {},
     "output_type": "execute_result"
    }
   ],
   "source": [
    "vt=CB.between(30000,40000)\n",
    "vt"
   ]
  },
  {
   "cell_type": "code",
   "execution_count": 18,
   "id": "636552bd",
   "metadata": {},
   "outputs": [
    {
     "data": {
      "text/plain": [
       "Series([], dtype: bool)"
      ]
     },
     "execution_count": 18,
     "metadata": {},
     "output_type": "execute_result"
    }
   ],
   "source": [
    "CB[vt]"
   ]
  },
  {
   "cell_type": "code",
   "execution_count": 19,
   "id": "71c17a0f",
   "metadata": {},
   "outputs": [
    {
     "data": {
      "text/plain": [
       "20"
      ]
     },
     "execution_count": 19,
     "metadata": {},
     "output_type": "execute_result"
    }
   ],
   "source": [
    "vt.size"
   ]
  },
  {
   "cell_type": "markdown",
   "id": "f3554187",
   "metadata": {},
   "source": [
    "# TASK 12"
   ]
  },
  {
   "cell_type": "code",
   "execution_count": 20,
   "id": "9e2e8efa",
   "metadata": {},
   "outputs": [
    {
     "data": {
      "text/plain": [
       "110    False\n",
       "118    False\n",
       "104    False\n",
       "116    False\n",
       "108    False\n",
       "117     True\n",
       "115     True\n",
       "114     True\n",
       "113     True\n",
       "112     True\n",
       "101     True\n",
       "119     True\n",
       "109     True\n",
       "107     True\n",
       "106     True\n",
       "105     True\n",
       "103     True\n",
       "102     True\n",
       "111     True\n",
       "120     True\n",
       "dtype: bool"
      ]
     },
     "execution_count": 20,
     "metadata": {},
     "output_type": "execute_result"
    }
   ],
   "source": [
    "srt=CB.sort_values()\n",
    "srt"
   ]
  },
  {
   "cell_type": "code",
   "execution_count": 21,
   "id": "42ca6ab9",
   "metadata": {},
   "outputs": [
    {
     "data": {
      "text/plain": [
       "110    False\n",
       "118    False\n",
       "104    False\n",
       "116    False\n",
       "108    False\n",
       "dtype: bool"
      ]
     },
     "execution_count": 21,
     "metadata": {},
     "output_type": "execute_result"
    }
   ],
   "source": [
    "srt[:5]"
   ]
  },
  {
   "cell_type": "code",
   "execution_count": null,
   "id": "e53b98b2",
   "metadata": {},
   "outputs": [],
   "source": []
  }
 ],
 "metadata": {
  "kernelspec": {
   "display_name": "Python 3 (ipykernel)",
   "language": "python",
   "name": "python3"
  },
  "language_info": {
   "codemirror_mode": {
    "name": "ipython",
    "version": 3
   },
   "file_extension": ".py",
   "mimetype": "text/x-python",
   "name": "python",
   "nbconvert_exporter": "python",
   "pygments_lexer": "ipython3",
   "version": "3.10.2"
  }
 },
 "nbformat": 4,
 "nbformat_minor": 5
}
