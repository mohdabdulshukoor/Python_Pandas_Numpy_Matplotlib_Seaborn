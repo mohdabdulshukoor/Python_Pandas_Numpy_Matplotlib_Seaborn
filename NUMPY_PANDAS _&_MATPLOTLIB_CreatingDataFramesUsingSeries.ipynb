{
 "cells": [
  {
   "cell_type": "code",
   "execution_count": 4,
   "id": "eaf440c3",
   "metadata": {},
   "outputs": [],
   "source": [
    "#important point of numpy and pandas\n",
    "\n",
    "#in numpy axis 0 is column\n",
    "              #1 is row\n",
    "    \n",
    "#in pandas axis 0 is rows\n",
    "               #1 is column"
   ]
  },
  {
   "cell_type": "code",
   "execution_count": 13,
   "id": "d8b10156",
   "metadata": {},
   "outputs": [
    {
     "name": "stdout",
     "output_type": "stream",
     "text": [
      "Collecting pandas\n",
      "  Downloading pandas-1.4.2-cp310-cp310-win_amd64.whl (10.6 MB)\n",
      "Requirement already satisfied: python-dateutil>=2.8.1 in c:\\users\\admin\\appdata\\local\\programs\\python\\python310\\lib\\site-packages (from pandas) (2.8.2)\n",
      "Requirement already satisfied: pytz>=2020.1 in c:\\users\\admin\\appdata\\local\\programs\\python\\python310\\lib\\site-packages (from pandas) (2022.1)\n",
      "Requirement already satisfied: numpy>=1.21.0 in c:\\users\\admin\\appdata\\local\\programs\\python\\python310\\lib\\site-packages (from pandas) (1.22.3)\n",
      "Requirement already satisfied: six>=1.5 in c:\\users\\admin\\appdata\\local\\programs\\python\\python310\\lib\\site-packages (from python-dateutil>=2.8.1->pandas) (1.16.0)\n",
      "Installing collected packages: pandas\n",
      "Successfully installed pandas-1.4.2\n",
      "Note: you may need to restart the kernel to use updated packages.\n"
     ]
    },
    {
     "name": "stderr",
     "output_type": "stream",
     "text": [
      "WARNING: You are using pip version 21.2.4; however, version 22.0.4 is available.\n",
      "You should consider upgrading via the 'C:\\Users\\ADMIN\\AppData\\Local\\Programs\\Python\\Python310\\python.exe -m pip install --upgrade pip' command.\n"
     ]
    }
   ],
   "source": [
    "pip install  pandas"
   ]
  },
  {
   "cell_type": "markdown",
   "id": "cc97e0c4",
   "metadata": {},
   "source": [
    "# Working With Series Data Structures "
   ]
  },
  {
   "cell_type": "markdown",
   "id": "830681ff",
   "metadata": {},
   "source": [
    "# Q-1)"
   ]
  },
  {
   "cell_type": "markdown",
   "id": "5030e228",
   "metadata": {},
   "source": [
    "## A teacher wishes to store the names of the students along with their roll numbers or serial numbers in the proper format. How can you help the teacher to accomplish this task? How will Series help you solve it?"
   ]
  },
  {
   "cell_type": "code",
   "execution_count": 11,
   "id": "a32a76e4",
   "metadata": {},
   "outputs": [],
   "source": [
    "name = [\"John\", \"Smith\", \"Warner\", \"David\", \"Micheal\", \"James\", \"Dennis\",\"Rossum\"]"
   ]
  },
  {
   "cell_type": "code",
   "execution_count": 84,
   "id": "f796165f",
   "metadata": {},
   "outputs": [],
   "source": [
    "import pandas as pd"
   ]
  },
  {
   "cell_type": "code",
   "execution_count": 151,
   "id": "029f2200",
   "metadata": {},
   "outputs": [
    {
     "data": {
      "text/plain": [
       "0    Benjamin\n",
       "1        Liam\n",
       "2        John\n",
       "3       Smith\n",
       "4      Warner\n",
       "5       David\n",
       "6     Micheal\n",
       "7       James\n",
       "8      Dennis\n",
       "9      Rossum\n",
       "dtype: object"
      ]
     },
     "execution_count": 151,
     "metadata": {},
     "output_type": "execute_result"
    }
   ],
   "source": [
    "S = pd.Series(name) # Series is a single column table structure available in the pandas library \n",
    "S \n",
    "# Note : The row id's are auto generated, they represent the student roll number in this example  "
   ]
  },
  {
   "cell_type": "code",
   "execution_count": 154,
   "id": "0a62e77b",
   "metadata": {},
   "outputs": [
    {
     "data": {
      "text/plain": [
       "1       Liam\n",
       "2       John\n",
       "3      Smith\n",
       "4     Warner\n",
       "5      David\n",
       "6    Micheal\n",
       "7      James\n",
       "8     Dennis\n",
       "dtype: object"
      ]
     },
     "execution_count": 154,
     "metadata": {},
     "output_type": "execute_result"
    }
   ],
   "source": [
    "# Setting custom row index , here we want the row index to be begin with 1 \n",
    "import numpy as np\n",
    "S1 = pd.Series(S, index=np.arange(1,9)) # The index object has data(numerical values) from 1 to 9\n",
    "S1"
   ]
  },
  {
   "cell_type": "markdown",
   "id": "2567685f",
   "metadata": {},
   "source": [
    "# Q-2)"
   ]
  },
  {
   "cell_type": "markdown",
   "id": "f2821b41",
   "metadata": {},
   "source": [
    "## An e-commerce company wants to represent the customer IDs which consist of alphanumeric characters, with their spending scores (1-100). How can you accomplish this task?"
   ]
  },
  {
   "cell_type": "code",
   "execution_count": 87,
   "id": "35c64067",
   "metadata": {},
   "outputs": [
    {
     "data": {
      "text/plain": [
       "A1    55\n",
       "A2    65\n",
       "A3    90\n",
       "A4    79\n",
       "A5    88\n",
       "dtype: int64"
      ]
     },
     "execution_count": 87,
     "metadata": {},
     "output_type": "execute_result"
    }
   ],
   "source": [
    "cust_id = [\"A1\",\"A2\",\"A3\",\"A4\",\"A5\"] # The row index can be non numerical \n",
    "spnd_scr = [55,65,90,79,88]\n",
    "S2 = pd.Series(spnd_scr, index = cust_id)\n",
    "S2"
   ]
  },
  {
   "cell_type": "markdown",
   "id": "e5d3a25c",
   "metadata": {},
   "source": [
    "# Q-3)"
   ]
  },
  {
   "cell_type": "markdown",
   "id": "a0aeaf72",
   "metadata": {},
   "source": [
    "## Converting a dictionary object into Series type "
   ]
  },
  {
   "cell_type": "code",
   "execution_count": 88,
   "id": "560fd141",
   "metadata": {},
   "outputs": [
    {
     "data": {
      "text/plain": [
       "Roll_no          44\n",
       "Name       Macculam\n",
       "Marks            87\n",
       "Age              12\n",
       "dtype: object"
      ]
     },
     "execution_count": 88,
     "metadata": {},
     "output_type": "execute_result"
    }
   ],
   "source": [
    "dic = {'Roll_no':44, 'Name':\"Macculam\", 'Marks':87, 'Age':12}\n",
    "S3 = pd.Series(dic)\n",
    "S3"
   ]
  },
  {
   "cell_type": "markdown",
   "id": "0e030fa6",
   "metadata": {},
   "source": [
    "# Q-4)"
   ]
  },
  {
   "cell_type": "markdown",
   "id": "021975c1",
   "metadata": {},
   "source": [
    "## Tabular representation of the names and salaries of employees in a startup, using Series "
   ]
  },
  {
   "cell_type": "code",
   "execution_count": 89,
   "id": "2c105bb1",
   "metadata": {},
   "outputs": [
    {
     "data": {
      "text/plain": [
       "Benjamin    25000\n",
       "Liam        26000\n",
       "John        23000\n",
       "Smith       27000\n",
       "Warner      28000\n",
       "David       28500\n",
       "Micheal     24000\n",
       "James       30000\n",
       "Dennis      29000\n",
       "Rossum      24700\n",
       "dtype: int64"
      ]
     },
     "execution_count": 89,
     "metadata": {},
     "output_type": "execute_result"
    }
   ],
   "source": [
    "name = [\"Benjamin\",\"Liam\",\"John\", \"Smith\", \"Warner\", \"David\", \"Micheal\", \"James\", \"Dennis\",\"Rossum\"]\n",
    "Sal = [25000, 26000, 23000, 27000, 28000, 28500, 24000, 30000, 29000, 24700]\n",
    "Ser = pd.Series(Sal, index=name)\n",
    "Ser\n",
    "\n",
    "# Note : The first column containing the Name of the employees is the row index of Series "
   ]
  },
  {
   "cell_type": "markdown",
   "id": "4ae7ba46",
   "metadata": {},
   "source": [
    "# Q-5)"
   ]
  },
  {
   "cell_type": "markdown",
   "id": "98d350af",
   "metadata": {},
   "source": [
    "## How can you retrieve the first five elements and the last three elements from the above data?"
   ]
  },
  {
   "cell_type": "code",
   "execution_count": 90,
   "id": "965f37d1",
   "metadata": {},
   "outputs": [
    {
     "name": "stdout",
     "output_type": "stream",
     "text": [
      "First five elements of series are:\n",
      " Benjamin    25000\n",
      "Liam        26000\n",
      "John        23000\n",
      "Smith       27000\n",
      "Warner      28000\n",
      "dtype: int64\n"
     ]
    }
   ],
   "source": [
    "print(\"First five elements of series are:\\n\", Ser[:5])"
   ]
  },
  {
   "cell_type": "code",
   "execution_count": 91,
   "id": "e261d020",
   "metadata": {},
   "outputs": [
    {
     "name": "stdout",
     "output_type": "stream",
     "text": [
      "Last three elements of series are:\n",
      " James     30000\n",
      "Dennis    29000\n",
      "Rossum    24700\n",
      "dtype: int64\n"
     ]
    }
   ],
   "source": [
    "print(\"Last three elements of series are:\\n\", Ser[7:])"
   ]
  },
  {
   "cell_type": "code",
   "execution_count": 92,
   "id": "390bc488",
   "metadata": {},
   "outputs": [
    {
     "name": "stdout",
     "output_type": "stream",
     "text": [
      "Last three elements of series are:\n",
      " James     30000\n",
      "Dennis    29000\n",
      "Rossum    24700\n",
      "dtype: int64\n"
     ]
    }
   ],
   "source": [
    "print(\"Last three elements of series are:\\n\", Ser[-3:])"
   ]
  },
  {
   "cell_type": "markdown",
   "id": "3cd94d1c",
   "metadata": {},
   "source": [
    "## Consider the series \"S2\" that represents the Customer ID and Spending score (1-100) of the customers of an e-commerce company. The company wants to know the records of the customers with customer IDs from A3 to A5. How can you accomplish this task?"
   ]
  },
  {
   "cell_type": "code",
   "execution_count": 93,
   "id": "a7b061f3",
   "metadata": {},
   "outputs": [
    {
     "name": "stdout",
     "output_type": "stream",
     "text": [
      "The record of customers who's customer ID is from A3 to A5 is:\n",
      " A3    90\n",
      "A4    79\n",
      "A5    88\n",
      "dtype: int64\n"
     ]
    }
   ],
   "source": [
    "print(\"The record of customers who's customer ID is from A3 to A5 is:\\n\", S2[2:])"
   ]
  },
  {
   "cell_type": "markdown",
   "id": "c533b77c",
   "metadata": {},
   "source": [
    "# Q-6)"
   ]
  },
  {
   "cell_type": "markdown",
   "id": "12a4021b",
   "metadata": {},
   "source": [
    "## Consider the series \"S1\" that represents the names and serial numbers of students. A teacher wants to find out the the records of the students having serial number more than 4 and less than 8. How can you accomplish this task?"
   ]
  },
  {
   "cell_type": "code",
   "execution_count": 94,
   "id": "5c0cabe0",
   "metadata": {},
   "outputs": [
    {
     "name": "stdout",
     "output_type": "stream",
     "text": [
      "5    Micheal\n",
      "6      James\n",
      "7     Dennis\n",
      "dtype: object\n"
     ]
    }
   ],
   "source": [
    "print(S1[4:7])"
   ]
  },
  {
   "cell_type": "markdown",
   "id": "6462c0c1",
   "metadata": {},
   "source": [
    "# Q-7)"
   ]
  },
  {
   "cell_type": "markdown",
   "id": "a3f76ad4",
   "metadata": {},
   "source": [
    "## Consider the series \"Ser\", that represents the names and annual salaries of the employees of the company.  Display the records of the employees whose salary is greater than 27,000."
   ]
  },
  {
   "cell_type": "code",
   "execution_count": 95,
   "id": "007fcdf5",
   "metadata": {},
   "outputs": [
    {
     "data": {
      "text/plain": [
       "Benjamin    25000\n",
       "Liam        26000\n",
       "John        23000\n",
       "Smith       27000\n",
       "Warner      28000\n",
       "David       28500\n",
       "Micheal     24000\n",
       "James       30000\n",
       "Dennis      29000\n",
       "Rossum      24700\n",
       "dtype: int64"
      ]
     },
     "execution_count": 95,
     "metadata": {},
     "output_type": "execute_result"
    }
   ],
   "source": [
    "Ser # Print the original data "
   ]
  },
  {
   "cell_type": "code",
   "execution_count": 96,
   "id": "94ddf22d",
   "metadata": {},
   "outputs": [
    {
     "data": {
      "text/plain": [
       "Warner    28000\n",
       "David     28500\n",
       "James     30000\n",
       "Dennis    29000\n",
       "dtype: int64"
      ]
     },
     "execution_count": 96,
     "metadata": {},
     "output_type": "execute_result"
    }
   ],
   "source": [
    "# Alternate approach \n",
    "Ser[Ser > 27000] # applying the filter condition "
   ]
  },
  {
   "cell_type": "markdown",
   "id": "2eaf2c8a",
   "metadata": {},
   "source": [
    "# Q-8)"
   ]
  },
  {
   "cell_type": "markdown",
   "id": "076d5cd3",
   "metadata": {},
   "source": [
    "## Consider the series \"Ser\", that represents the names and annual salaries of the employees of the company. A company wants to find out the names of the employees whose salary is more than 26,000 USD and less than 29,000 USD. How can you accomplish this task?"
   ]
  },
  {
   "cell_type": "code",
   "execution_count": 97,
   "id": "84e480a9",
   "metadata": {},
   "outputs": [
    {
     "data": {
      "text/plain": [
       "Smith     27000\n",
       "Warner    28000\n",
       "David     28500\n",
       "dtype: int64"
      ]
     },
     "execution_count": 97,
     "metadata": {},
     "output_type": "execute_result"
    }
   ],
   "source": [
    "x = Ser[(Ser > 26000) & (Ser < 29000)]\n",
    "x"
   ]
  },
  {
   "cell_type": "code",
   "execution_count": 98,
   "id": "293c0ed8",
   "metadata": {},
   "outputs": [
    {
     "data": {
      "text/plain": [
       "Index(['Smith', 'Warner', 'David'], dtype='object')"
      ]
     },
     "execution_count": 98,
     "metadata": {},
     "output_type": "execute_result"
    }
   ],
   "source": [
    "x.index # Would identify the row index from the result saled in \"x\""
   ]
  },
  {
   "cell_type": "code",
   "execution_count": 99,
   "id": "3be08818",
   "metadata": {},
   "outputs": [
    {
     "data": {
      "text/plain": [
       "pandas.core.series.Series"
      ]
     },
     "execution_count": 99,
     "metadata": {},
     "output_type": "execute_result"
    }
   ],
   "source": [
    "type(x) # A subset of a series would result in a series type ! "
   ]
  },
  {
   "cell_type": "markdown",
   "id": "35b42c36",
   "metadata": {},
   "source": [
    "# Q-9)"
   ]
  },
  {
   "cell_type": "markdown",
   "id": "f52a7367",
   "metadata": {},
   "source": [
    "## With respect to the series object,  \"Ser\", the company wants to increase the salary of all the employees by 20%.  Display the records of the employees whose updated salary is greater than 32,000 USD."
   ]
  },
  {
   "cell_type": "code",
   "execution_count": 100,
   "id": "2def85f4",
   "metadata": {},
   "outputs": [
    {
     "data": {
      "text/plain": [
       "Benjamin    25000\n",
       "Liam        26000\n",
       "John        23000\n",
       "Smith       27000\n",
       "Warner      28000\n",
       "David       28500\n",
       "Micheal     24000\n",
       "James       30000\n",
       "Dennis      29000\n",
       "Rossum      24700\n",
       "dtype: int64"
      ]
     },
     "execution_count": 100,
     "metadata": {},
     "output_type": "execute_result"
    }
   ],
   "source": [
    "Ser # Printing the original data "
   ]
  },
  {
   "cell_type": "code",
   "execution_count": 101,
   "id": "951fee31",
   "metadata": {},
   "outputs": [
    {
     "data": {
      "text/plain": [
       "Benjamin    30000.0\n",
       "Liam        31200.0\n",
       "John        27600.0\n",
       "Smith       32400.0\n",
       "Warner      33600.0\n",
       "David       34200.0\n",
       "Micheal     28800.0\n",
       "James       36000.0\n",
       "Dennis      34800.0\n",
       "Rossum      29640.0\n",
       "dtype: float64"
      ]
     },
     "execution_count": 101,
     "metadata": {},
     "output_type": "execute_result"
    }
   ],
   "source": [
    "Ser = Ser * 1.20 # Increasing the salary column by 20% \n",
    "Ser # Printing the updated data "
   ]
  },
  {
   "cell_type": "code",
   "execution_count": 102,
   "id": "63d9dfef",
   "metadata": {},
   "outputs": [
    {
     "data": {
      "text/plain": [
       "Smith     32400.0\n",
       "Warner    33600.0\n",
       "David     34200.0\n",
       "James     36000.0\n",
       "Dennis    34800.0\n",
       "dtype: float64"
      ]
     },
     "execution_count": 102,
     "metadata": {},
     "output_type": "execute_result"
    }
   ],
   "source": [
    "Ser[Ser > 32000] # Filtering out the data where salary is greater than 32000"
   ]
  },
  {
   "cell_type": "markdown",
   "id": "ab2311bc",
   "metadata": {},
   "source": [
    "# Q-10) "
   ]
  },
  {
   "cell_type": "markdown",
   "id": "6f28c874",
   "metadata": {},
   "source": [
    "## Consider the series object \"Ser\". Implement the income tax of 6% on the salary field.  Print the tax amount paid by each employee and display the salary after the tax deduction."
   ]
  },
  {
   "cell_type": "code",
   "execution_count": 103,
   "id": "395d8d9b",
   "metadata": {},
   "outputs": [
    {
     "name": "stdout",
     "output_type": "stream",
     "text": [
      "The tax amount need to be paid by all employees:\n",
      " Benjamin    1800.0\n",
      "Liam        1872.0\n",
      "John        1656.0\n",
      "Smith       1944.0\n",
      "Warner      2016.0\n",
      "David       2052.0\n",
      "Micheal     1728.0\n",
      "James       2160.0\n",
      "Dennis      2088.0\n",
      "Rossum      1778.4\n",
      "dtype: float64\n"
     ]
    }
   ],
   "source": [
    "Tax = Ser * 0.06\n",
    "print(\"The tax amount need to be paid by all employees:\\n\",Tax)"
   ]
  },
  {
   "cell_type": "code",
   "execution_count": 104,
   "id": "feda5284",
   "metadata": {},
   "outputs": [
    {
     "name": "stdout",
     "output_type": "stream",
     "text": [
      "After the tax deduction, the net salary of all employees are:\n",
      " Benjamin    28200.0\n",
      "Liam        29328.0\n",
      "John        25944.0\n",
      "Smith       30456.0\n",
      "Warner      31584.0\n",
      "David       32148.0\n",
      "Micheal     27072.0\n",
      "James       33840.0\n",
      "Dennis      32712.0\n",
      "Rossum      27861.6\n",
      "dtype: float64\n"
     ]
    }
   ],
   "source": [
    "Ser = Ser - Tax\n",
    "print(\"After the tax deduction, the net salary of all employees are:\\n\",Ser)"
   ]
  },
  {
   "cell_type": "markdown",
   "id": "6cc420fa",
   "metadata": {},
   "source": [
    "# Q-11)"
   ]
  },
  {
   "cell_type": "markdown",
   "id": "8f83662f",
   "metadata": {},
   "source": [
    "## Consider the series object \"Ser\". Identify the top 5 highest paid employees in the data. "
   ]
  },
  {
   "cell_type": "code",
   "execution_count": 105,
   "id": "0b59ce3f",
   "metadata": {},
   "outputs": [
    {
     "data": {
      "text/plain": [
       "James       33840.0\n",
       "Dennis      32712.0\n",
       "David       32148.0\n",
       "Warner      31584.0\n",
       "Smith       30456.0\n",
       "Liam        29328.0\n",
       "Benjamin    28200.0\n",
       "Rossum      27861.6\n",
       "Micheal     27072.0\n",
       "John        25944.0\n",
       "dtype: float64"
      ]
     },
     "execution_count": 105,
     "metadata": {},
     "output_type": "execute_result"
    }
   ],
   "source": [
    "#Sorting the salaries in descending order\n",
    "sort_Sal = Ser.sort_values(ascending=False)\n",
    "sort_Sal"
   ]
  },
  {
   "cell_type": "code",
   "execution_count": 106,
   "id": "13df6038",
   "metadata": {},
   "outputs": [
    {
     "name": "stdout",
     "output_type": "stream",
     "text": [
      "Name and salaries of top 5 highest paid employees:\n",
      " James     33840.0\n",
      "Dennis    32712.0\n",
      "David     32148.0\n",
      "Warner    31584.0\n",
      "Smith     30456.0\n",
      "dtype: float64\n"
     ]
    }
   ],
   "source": [
    "print(\"Name and salaries of top 5 highest paid employees:\\n\", sort_Sal[0:5])"
   ]
  },
  {
   "cell_type": "markdown",
   "id": "859b9085",
   "metadata": {},
   "source": [
    "# Q-12)"
   ]
  },
  {
   "cell_type": "markdown",
   "id": "5454f268",
   "metadata": {},
   "source": [
    "## The company wants to add 5 more employees with the annual salary of 25000, 27560, 30100, 26890, and 28500 to the existing data in the Ser object. \n"
   ]
  },
  {
   "cell_type": "code",
   "execution_count": 107,
   "id": "ee6315b4",
   "metadata": {},
   "outputs": [
    {
     "data": {
      "text/plain": [
       "Harry     25000\n",
       "Jack      27560\n",
       "Thomas    30100\n",
       "Sophia    26890\n",
       "Amelia    28500\n",
       "dtype: int64"
      ]
     },
     "execution_count": 107,
     "metadata": {},
     "output_type": "execute_result"
    }
   ],
   "source": [
    "new_emp = [\"Harry\",\"Jack\",\"Thomas\", \"Sophia\", \"Amelia\"]\n",
    "new_sal = [25000,27560,30100,26890,28500]\n",
    "Sr = pd.Series(new_sal, index=new_emp) # Creating a new series object with additional data \n",
    "Sr"
   ]
  },
  {
   "cell_type": "code",
   "execution_count": 108,
   "id": "a29c0388",
   "metadata": {},
   "outputs": [
    {
     "data": {
      "text/plain": [
       "Benjamin    28200.0\n",
       "Liam        29328.0\n",
       "John        25944.0\n",
       "Smith       30456.0\n",
       "Warner      31584.0\n",
       "David       32148.0\n",
       "Micheal     27072.0\n",
       "James       33840.0\n",
       "Dennis      32712.0\n",
       "Rossum      27861.6\n",
       "Harry       25000.0\n",
       "Jack        27560.0\n",
       "Thomas      30100.0\n",
       "Sophia      26890.0\n",
       "Amelia      28500.0\n",
       "dtype: float64"
      ]
     },
     "execution_count": 108,
     "metadata": {},
     "output_type": "execute_result"
    }
   ],
   "source": [
    "new_Ser = pd.concat([Ser,Sr])\n",
    "new_Ser"
   ]
  },
  {
   "cell_type": "code",
   "execution_count": 109,
   "id": "78443dd9",
   "metadata": {},
   "outputs": [
    {
     "name": "stdout",
     "output_type": "stream",
     "text": [
      "Total number of employees:  15\n"
     ]
    }
   ],
   "source": [
    "print(\"Total number of employees: \",new_Ser.size)"
   ]
  },
  {
   "cell_type": "markdown",
   "id": "e636d6a2",
   "metadata": {},
   "source": [
    "# Q-13)"
   ]
  },
  {
   "cell_type": "markdown",
   "id": "15d66bf8",
   "metadata": {},
   "source": [
    "## Consider the updated series object \"new_Ser\" to answer the following question. What is the total CTC and the average salary for all the employees ?"
   ]
  },
  {
   "cell_type": "code",
   "execution_count": 110,
   "id": "e55d5361",
   "metadata": {},
   "outputs": [
    {
     "name": "stdout",
     "output_type": "stream",
     "text": [
      "The total cost to employee is : 437195.6\n"
     ]
    }
   ],
   "source": [
    "print(\"The total cost to employee is :\",new_Ser.sum())"
   ]
  },
  {
   "cell_type": "code",
   "execution_count": 111,
   "id": "28afc76e",
   "metadata": {},
   "outputs": [
    {
     "name": "stdout",
     "output_type": "stream",
     "text": [
      "Average salary of all employee is : 29146.373333333333\n"
     ]
    }
   ],
   "source": [
    "print(\"Average salary of all employee is :\",new_Ser.mean())"
   ]
  },
  {
   "cell_type": "code",
   "execution_count": 112,
   "id": "71111a92",
   "metadata": {},
   "outputs": [
    {
     "data": {
      "text/plain": [
       "Liam    29328.0\n",
       "John    25944.0\n",
       "dtype: float64"
      ]
     },
     "execution_count": 112,
     "metadata": {},
     "output_type": "execute_result"
    }
   ],
   "source": [
    "new_Ser[1:3]"
   ]
  },
  {
   "cell_type": "markdown",
   "id": "d4d4c914",
   "metadata": {},
   "source": [
    "# Q-14)"
   ]
  },
  {
   "cell_type": "markdown",
   "id": "4d26a143",
   "metadata": {},
   "source": [
    "## Identify the employees who are paid below the average salary of all the employees. "
   ]
  },
  {
   "cell_type": "code",
   "execution_count": 113,
   "id": "783b0535",
   "metadata": {},
   "outputs": [
    {
     "name": "stdout",
     "output_type": "stream",
     "text": [
      "Average salary of all employee is : 29146.373333333333\n"
     ]
    }
   ],
   "source": [
    "avg = new_Ser.mean() # Calculate the average sal\n",
    "print(\"Average salary of all employee is :\",avg)"
   ]
  },
  {
   "cell_type": "code",
   "execution_count": 114,
   "id": "ad479cf0",
   "metadata": {},
   "outputs": [
    {
     "data": {
      "text/plain": [
       "Benjamin    28200.0\n",
       "John        25944.0\n",
       "Micheal     27072.0\n",
       "Rossum      27861.6\n",
       "Harry       25000.0\n",
       "Jack        27560.0\n",
       "Sophia      26890.0\n",
       "Amelia      28500.0\n",
       "dtype: float64"
      ]
     },
     "execution_count": 114,
     "metadata": {},
     "output_type": "execute_result"
    }
   ],
   "source": [
    "y = new_Ser[new_Ser < avg] # Filtering out the employees below the average salary \n",
    "y "
   ]
  },
  {
   "cell_type": "code",
   "execution_count": 115,
   "id": "aef73c06",
   "metadata": {},
   "outputs": [
    {
     "name": "stdout",
     "output_type": "stream",
     "text": [
      "Index(['Benjamin', 'John', 'Micheal', 'Rossum', 'Harry', 'Jack', 'Sophia',\n",
      "       'Amelia'],\n",
      "      dtype='object')\n"
     ]
    }
   ],
   "source": [
    "print(y.index) # Printing only the empoyee names of those who are paid below average \n",
    "# Note : The row index of Series object contains the name of the employees in this case ! "
   ]
  },
  {
   "cell_type": "code",
   "execution_count": 116,
   "id": "f4471678",
   "metadata": {},
   "outputs": [
    {
     "data": {
      "text/plain": [
       "29146.373333333333"
      ]
     },
     "execution_count": 116,
     "metadata": {},
     "output_type": "execute_result"
    }
   ],
   "source": [
    "new_Ser.mean()"
   ]
  },
  {
   "cell_type": "markdown",
   "id": "e42d0523",
   "metadata": {},
   "source": [
    "# Q15)"
   ]
  },
  {
   "cell_type": "markdown",
   "id": "8c654f7c",
   "metadata": {},
   "source": [
    "# Identify the employees whose salary lies between 23K and 25K."
   ]
  },
  {
   "cell_type": "code",
   "execution_count": 117,
   "id": "13e5384c",
   "metadata": {},
   "outputs": [
    {
     "data": {
      "text/plain": [
       "Benjamin    False\n",
       "Liam        False\n",
       "John        False\n",
       "Smith       False\n",
       "Warner      False\n",
       "David       False\n",
       "Micheal     False\n",
       "James       False\n",
       "Dennis      False\n",
       "Rossum      False\n",
       "Harry        True\n",
       "Jack        False\n",
       "Thomas      False\n",
       "Sophia      False\n",
       "Amelia      False\n",
       "dtype: bool"
      ]
     },
     "execution_count": 117,
     "metadata": {},
     "output_type": "execute_result"
    }
   ],
   "source": [
    "bool = new_Ser.between(23000,25000,inclusive = 'both')\n",
    "bool"
   ]
  },
  {
   "cell_type": "code",
   "execution_count": 118,
   "id": "89f9158d",
   "metadata": {},
   "outputs": [
    {
     "data": {
      "text/plain": [
       "Harry    25000.0\n",
       "dtype: float64"
      ]
     },
     "execution_count": 118,
     "metadata": {},
     "output_type": "execute_result"
    }
   ],
   "source": [
    "new_Ser[bool]"
   ]
  },
  {
   "cell_type": "markdown",
   "id": "067db085",
   "metadata": {},
   "source": [
    "# Q-16)"
   ]
  },
  {
   "cell_type": "markdown",
   "id": "9e9c66eb",
   "metadata": {},
   "source": [
    "## Sort the data in the alphabetical order of the employee names."
   ]
  },
  {
   "cell_type": "code",
   "execution_count": 119,
   "id": "d4ad41a7",
   "metadata": {},
   "outputs": [
    {
     "data": {
      "text/plain": [
       "Amelia      28500.0\n",
       "Benjamin    28200.0\n",
       "David       32148.0\n",
       "Dennis      32712.0\n",
       "Harry       25000.0\n",
       "Jack        27560.0\n",
       "James       33840.0\n",
       "John        25944.0\n",
       "Liam        29328.0\n",
       "Micheal     27072.0\n",
       "Rossum      27861.6\n",
       "Smith       30456.0\n",
       "Sophia      26890.0\n",
       "Thomas      30100.0\n",
       "Warner      31584.0\n",
       "dtype: float64"
      ]
     },
     "execution_count": 119,
     "metadata": {},
     "output_type": "execute_result"
    }
   ],
   "source": [
    "new_Ser.sort_index() # we are sorting based on the index since the index contains the employee names "
   ]
  },
  {
   "cell_type": "code",
   "execution_count": 120,
   "id": "146bbac3",
   "metadata": {},
   "outputs": [
    {
     "data": {
      "text/plain": [
       "Harry       25000.0\n",
       "John        25944.0\n",
       "Sophia      26890.0\n",
       "Micheal     27072.0\n",
       "Jack        27560.0\n",
       "Rossum      27861.6\n",
       "Benjamin    28200.0\n",
       "Amelia      28500.0\n",
       "Liam        29328.0\n",
       "Thomas      30100.0\n",
       "Smith       30456.0\n",
       "Warner      31584.0\n",
       "David       32148.0\n",
       "Dennis      32712.0\n",
       "James       33840.0\n",
       "dtype: float64"
      ]
     },
     "execution_count": 120,
     "metadata": {},
     "output_type": "execute_result"
    }
   ],
   "source": [
    "new_Ser.sort_values()"
   ]
  },
  {
   "cell_type": "code",
   "execution_count": 121,
   "id": "2e43b6bc",
   "metadata": {},
   "outputs": [
    {
     "data": {
      "text/plain": [
       "Harry       25000.0\n",
       "John        25944.0\n",
       "Sophia      26890.0\n",
       "Micheal     27072.0\n",
       "Jack        27560.0\n",
       "Rossum      27861.6\n",
       "Benjamin    28200.0\n",
       "Amelia      28500.0\n",
       "Liam        29328.0\n",
       "Thomas      30100.0\n",
       "Smith       30456.0\n",
       "Warner      31584.0\n",
       "David       32148.0\n",
       "Dennis      32712.0\n",
       "James       33840.0\n",
       "dtype: float64"
      ]
     },
     "execution_count": 121,
     "metadata": {},
     "output_type": "execute_result"
    }
   ],
   "source": [
    "new_Ser.sort_values(ascending=True)"
   ]
  },
  {
   "cell_type": "code",
   "execution_count": 122,
   "id": "edfed293",
   "metadata": {},
   "outputs": [
    {
     "data": {
      "text/plain": [
       "James       33840.0\n",
       "Dennis      32712.0\n",
       "David       32148.0\n",
       "Warner      31584.0\n",
       "Smith       30456.0\n",
       "Thomas      30100.0\n",
       "Liam        29328.0\n",
       "Amelia      28500.0\n",
       "Benjamin    28200.0\n",
       "Rossum      27861.6\n",
       "Jack        27560.0\n",
       "Micheal     27072.0\n",
       "Sophia      26890.0\n",
       "John        25944.0\n",
       "Harry       25000.0\n",
       "dtype: float64"
      ]
     },
     "execution_count": 122,
     "metadata": {},
     "output_type": "execute_result"
    }
   ],
   "source": [
    "new_Ser.sort_values(ascending=False)"
   ]
  },
  {
   "cell_type": "markdown",
   "id": "3aa5c86b",
   "metadata": {},
   "source": [
    "# Q-17)"
   ]
  },
  {
   "cell_type": "markdown",
   "id": "1742abb5",
   "metadata": {},
   "source": [
    "## Update the salary of employees Benjamin and Warner with a new salary of 25000 and 28000, respectively. "
   ]
  },
  {
   "cell_type": "code",
   "execution_count": 123,
   "id": "ebe68633",
   "metadata": {},
   "outputs": [
    {
     "data": {
      "text/plain": [
       "Benjamin    25000.0\n",
       "Liam        29328.0\n",
       "John        25944.0\n",
       "Smith       30456.0\n",
       "Warner      28000.0\n",
       "David       32148.0\n",
       "Micheal     27072.0\n",
       "James       33840.0\n",
       "Dennis      32712.0\n",
       "Rossum      27861.6\n",
       "Harry       25000.0\n",
       "Jack        27560.0\n",
       "Thomas      30100.0\n",
       "Sophia      26890.0\n",
       "Amelia      28500.0\n",
       "dtype: float64"
      ]
     },
     "execution_count": 123,
     "metadata": {},
     "output_type": "execute_result"
    }
   ],
   "source": [
    "new_Ser.update(pd.Series([25000, 28000], index = ['Benjamin', 'Warner']))\n",
    "new_Ser"
   ]
  },
  {
   "cell_type": "markdown",
   "id": "c1a130b6",
   "metadata": {},
   "source": [
    "# DataFrame\n",
    "\n",
    "A tabular data structure comprises of rows and colums. It can be used to store both numerical and categorical data."
   ]
  },
  {
   "cell_type": "code",
   "execution_count": 126,
   "id": "a15c206b",
   "metadata": {},
   "outputs": [
    {
     "data": {
      "text/html": [
       "<div>\n",
       "<style scoped>\n",
       "    .dataframe tbody tr th:only-of-type {\n",
       "        vertical-align: middle;\n",
       "    }\n",
       "\n",
       "    .dataframe tbody tr th {\n",
       "        vertical-align: top;\n",
       "    }\n",
       "\n",
       "    .dataframe thead th {\n",
       "        text-align: right;\n",
       "    }\n",
       "</style>\n",
       "<table border=\"1\" class=\"dataframe\">\n",
       "  <thead>\n",
       "    <tr style=\"text-align: right;\">\n",
       "      <th></th>\n",
       "      <th>wastage</th>\n",
       "      <th>hours</th>\n",
       "      <th>ai3873y</th>\n",
       "    </tr>\n",
       "  </thead>\n",
       "  <tbody>\n",
       "    <tr>\n",
       "      <th>0</th>\n",
       "      <td>420</td>\n",
       "      <td>50</td>\n",
       "      <td>28904</td>\n",
       "    </tr>\n",
       "    <tr>\n",
       "      <th>1</th>\n",
       "      <td>380</td>\n",
       "      <td>40</td>\n",
       "      <td>29784</td>\n",
       "    </tr>\n",
       "    <tr>\n",
       "      <th>2</th>\n",
       "      <td>390</td>\n",
       "      <td>45</td>\n",
       "      <td>234234</td>\n",
       "    </tr>\n",
       "  </tbody>\n",
       "</table>\n",
       "</div>"
      ],
      "text/plain": [
       "   wastage  hours  ai3873y\n",
       "0      420     50    28904\n",
       "1      380     40    29784\n",
       "2      390     45   234234"
      ]
     },
     "execution_count": 126,
     "metadata": {},
     "output_type": "execute_result"
    }
   ],
   "source": [
    "data = {\"wastage\":[420, 380, 390],\n",
    "        \"hours\":[50, 40, 45],\n",
    "       \"ai3873y\":[28904,29784,234234]}\n",
    "\n",
    "d = pd.DataFrame(data)\n",
    "d\n"
   ]
  },
  {
   "cell_type": "code",
   "execution_count": 148,
   "id": "c692fb24",
   "metadata": {},
   "outputs": [
    {
     "name": "stdout",
     "output_type": "stream",
     "text": [
      "<class 'pandas.core.frame.DataFrame'>\n",
      "RangeIndex: 3 entries, 0 to 2\n",
      "Data columns (total 3 columns):\n",
      " #   Column   Non-Null Count  Dtype\n",
      "---  ------   --------------  -----\n",
      " 0   wastage  3 non-null      int64\n",
      " 1   hours    3 non-null      int64\n",
      " 2   ai3873y  3 non-null      int64\n",
      "dtypes: int64(3)\n",
      "memory usage: 200.0 bytes\n"
     ]
    }
   ],
   "source": [
    "d.info()"
   ]
  },
  {
   "cell_type": "code",
   "execution_count": 149,
   "id": "aaa4d174",
   "metadata": {},
   "outputs": [
    {
     "data": {
      "text/plain": [
       "wastage       390\n",
       "hours          45\n",
       "ai3873y    234234\n",
       "Name: 2, dtype: int64"
      ]
     },
     "execution_count": 149,
     "metadata": {},
     "output_type": "execute_result"
    }
   ],
   "source": [
    "d.loc[2]"
   ]
  },
  {
   "cell_type": "markdown",
   "id": "91071580",
   "metadata": {},
   "source": [
    "# Q-18)"
   ]
  },
  {
   "cell_type": "markdown",
   "id": "a07edf09",
   "metadata": {},
   "source": [
    "## Converting the series object  \"new_Ser\" into a data frame \n",
    "\n",
    "Note: Series can just hold one column of data whereas a data frame can support multiple columns."
   ]
  },
  {
   "cell_type": "code",
   "execution_count": null,
   "id": "2e667569",
   "metadata": {},
   "outputs": [],
   "source": [
    "# Converting series into Dataframe\n",
    "df = pd.DataFrame(new_Ser, columns = ['Salary']) \n",
    "df"
   ]
  },
  {
   "cell_type": "code",
   "execution_count": null,
   "id": "797d1467",
   "metadata": {},
   "outputs": [],
   "source": [
    "type(df) \n",
    "# Note : Data Frames provide more functions to manipulate them, hence widely used in the analysis of \n",
    "# structured data "
   ]
  },
  {
   "cell_type": "markdown",
   "id": "6bdf6788",
   "metadata": {},
   "source": [
    "# Q-19)"
   ]
  },
  {
   "cell_type": "markdown",
   "id": "5b3b89a0",
   "metadata": {},
   "source": [
    "# Capturing the details of popular mobile phone brands 'Redmi Note 8 pro', 'Samsung Galaxy M12' and 'Nokia N-90' along with the price in dollars and total units sold "
   ]
  },
  {
   "cell_type": "code",
   "execution_count": 63,
   "id": "ee774f2c",
   "metadata": {},
   "outputs": [],
   "source": [
    "#Creating a dictionary\n",
    "dic = {'Mobile':['Redmi Note 8 pro', 'Samsung Galaxy M12','Nokia N-90'], 'Cost': [200, 160, 300], \n",
    "      'Total_sale':[4300, 5400, 3200]}"
   ]
  },
  {
   "cell_type": "code",
   "execution_count": 64,
   "id": "170b8231",
   "metadata": {},
   "outputs": [
    {
     "data": {
      "text/html": [
       "<div>\n",
       "<style scoped>\n",
       "    .dataframe tbody tr th:only-of-type {\n",
       "        vertical-align: middle;\n",
       "    }\n",
       "\n",
       "    .dataframe tbody tr th {\n",
       "        vertical-align: top;\n",
       "    }\n",
       "\n",
       "    .dataframe thead th {\n",
       "        text-align: right;\n",
       "    }\n",
       "</style>\n",
       "<table border=\"1\" class=\"dataframe\">\n",
       "  <thead>\n",
       "    <tr style=\"text-align: right;\">\n",
       "      <th></th>\n",
       "      <th>Mobile</th>\n",
       "      <th>Cost</th>\n",
       "      <th>Total_sale</th>\n",
       "    </tr>\n",
       "  </thead>\n",
       "  <tbody>\n",
       "    <tr>\n",
       "      <th>0</th>\n",
       "      <td>Redmi Note 8 pro</td>\n",
       "      <td>200</td>\n",
       "      <td>4300</td>\n",
       "    </tr>\n",
       "    <tr>\n",
       "      <th>1</th>\n",
       "      <td>Samsung Galaxy M12</td>\n",
       "      <td>160</td>\n",
       "      <td>5400</td>\n",
       "    </tr>\n",
       "    <tr>\n",
       "      <th>2</th>\n",
       "      <td>Nokia N-90</td>\n",
       "      <td>300</td>\n",
       "      <td>3200</td>\n",
       "    </tr>\n",
       "  </tbody>\n",
       "</table>\n",
       "</div>"
      ],
      "text/plain": [
       "               Mobile  Cost  Total_sale\n",
       "0    Redmi Note 8 pro   200        4300\n",
       "1  Samsung Galaxy M12   160        5400\n",
       "2          Nokia N-90   300        3200"
      ]
     },
     "execution_count": 64,
     "metadata": {},
     "output_type": "execute_result"
    }
   ],
   "source": [
    "DF = pd.DataFrame(dic) # We are converting the dictionary object into a tabular structure (data frame)\n",
    "DF"
   ]
  },
  {
   "cell_type": "code",
   "execution_count": 65,
   "id": "167d4e39",
   "metadata": {},
   "outputs": [
    {
     "name": "stdout",
     "output_type": "stream",
     "text": [
      "               Mobile   Cost  Total_sale\n",
      "0    Redmi Note 8 pro  14999        4300\n",
      "1  Samsung Galaxy M12   9999        5400\n",
      "2          Nokia N-90  22000        3200\n"
     ]
    }
   ],
   "source": [
    "#Another way of creating a data frame \n",
    "Li =[['Redmi Note 8 pro',14999, 4300],['Samsung Galaxy M12',9999, 5400], ['Nokia N-90', 22000, 3200]]\n",
    "DF1 = pd.DataFrame(Li, columns = ['Mobile','Cost','Total_sale'])\n",
    "print(DF1)"
   ]
  },
  {
   "cell_type": "markdown",
   "id": "b30e6e8d",
   "metadata": {},
   "source": [
    "# Q-20)"
   ]
  },
  {
   "cell_type": "markdown",
   "id": "1067bdeb",
   "metadata": {},
   "source": [
    "# A teacher wants to create a table that contains information about students' roll_no from 1 to 10, student_name, and percentage. How can you accomplish this task using pandas dataframe?\n"
   ]
  },
  {
   "cell_type": "code",
   "execution_count": 60,
   "id": "f372ae1a",
   "metadata": {},
   "outputs": [
    {
     "data": {
      "text/html": [
       "<div>\n",
       "<style scoped>\n",
       "    .dataframe tbody tr th:only-of-type {\n",
       "        vertical-align: middle;\n",
       "    }\n",
       "\n",
       "    .dataframe tbody tr th {\n",
       "        vertical-align: top;\n",
       "    }\n",
       "\n",
       "    .dataframe thead th {\n",
       "        text-align: right;\n",
       "    }\n",
       "</style>\n",
       "<table border=\"1\" class=\"dataframe\">\n",
       "  <thead>\n",
       "    <tr style=\"text-align: right;\">\n",
       "      <th></th>\n",
       "      <th>Roll_no</th>\n",
       "      <th>Name</th>\n",
       "      <th>Percentage</th>\n",
       "    </tr>\n",
       "  </thead>\n",
       "  <tbody>\n",
       "    <tr>\n",
       "      <th>0</th>\n",
       "      <td>1</td>\n",
       "      <td>Benjamin</td>\n",
       "      <td>66.80</td>\n",
       "    </tr>\n",
       "    <tr>\n",
       "      <th>1</th>\n",
       "      <td>2</td>\n",
       "      <td>Liam</td>\n",
       "      <td>78.90</td>\n",
       "    </tr>\n",
       "    <tr>\n",
       "      <th>2</th>\n",
       "      <td>3</td>\n",
       "      <td>John</td>\n",
       "      <td>56.40</td>\n",
       "    </tr>\n",
       "    <tr>\n",
       "      <th>3</th>\n",
       "      <td>4</td>\n",
       "      <td>Smith</td>\n",
       "      <td>45.40</td>\n",
       "    </tr>\n",
       "    <tr>\n",
       "      <th>4</th>\n",
       "      <td>5</td>\n",
       "      <td>Warner</td>\n",
       "      <td>61.50</td>\n",
       "    </tr>\n",
       "    <tr>\n",
       "      <th>5</th>\n",
       "      <td>6</td>\n",
       "      <td>David</td>\n",
       "      <td>75.60</td>\n",
       "    </tr>\n",
       "    <tr>\n",
       "      <th>6</th>\n",
       "      <td>7</td>\n",
       "      <td>Micheal</td>\n",
       "      <td>80.60</td>\n",
       "    </tr>\n",
       "    <tr>\n",
       "      <th>7</th>\n",
       "      <td>8</td>\n",
       "      <td>James</td>\n",
       "      <td>51.78</td>\n",
       "    </tr>\n",
       "    <tr>\n",
       "      <th>8</th>\n",
       "      <td>9</td>\n",
       "      <td>Dennis</td>\n",
       "      <td>85.50</td>\n",
       "    </tr>\n",
       "    <tr>\n",
       "      <th>9</th>\n",
       "      <td>10</td>\n",
       "      <td>Rossum</td>\n",
       "      <td>70.56</td>\n",
       "    </tr>\n",
       "  </tbody>\n",
       "</table>\n",
       "</div>"
      ],
      "text/plain": [
       "   Roll_no      Name  Percentage\n",
       "0        1  Benjamin       66.80\n",
       "1        2      Liam       78.90\n",
       "2        3      John       56.40\n",
       "3        4     Smith       45.40\n",
       "4        5    Warner       61.50\n",
       "5        6     David       75.60\n",
       "6        7   Micheal       80.60\n",
       "7        8     James       51.78\n",
       "8        9    Dennis       85.50\n",
       "9       10    Rossum       70.56"
      ]
     },
     "execution_count": 60,
     "metadata": {},
     "output_type": "execute_result"
    }
   ],
   "source": [
    "#Create a dictionary\n",
    "import numpy as np\n",
    "Di = {'Roll_no':np.arange(1,11), 'Name':[\"Benjamin\",\"Liam\",\"John\", \"Smith\", \"Warner\", \"David\", \"Micheal\", \"James\", \"Dennis\",\"Rossum\"],\n",
    "     'Percentage':[66.8, 78.9, 56.4, 45.4, 61.5, 75.6, 80.6, 51.78, 85.5, 70.56]}\n",
    "\n",
    "Student_data = pd.DataFrame(Di)\n",
    "Student_data"
   ]
  },
  {
   "cell_type": "markdown",
   "id": "675435d0",
   "metadata": {},
   "source": [
    "# Q-21)"
   ]
  },
  {
   "cell_type": "markdown",
   "id": "7eb46b69",
   "metadata": {},
   "source": [
    "## Accessing Dataframe Elements"
   ]
  },
  {
   "cell_type": "markdown",
   "id": "897bba5d",
   "metadata": {},
   "source": [
    "## Teacher wants to know the names of all the students of the class."
   ]
  },
  {
   "cell_type": "code",
   "execution_count": 66,
   "id": "3d162b8a",
   "metadata": {},
   "outputs": [
    {
     "data": {
      "text/plain": [
       "0    Benjamin\n",
       "1        Liam\n",
       "2        John\n",
       "3       Smith\n",
       "4      Warner\n",
       "5       David\n",
       "6     Micheal\n",
       "7       James\n",
       "8      Dennis\n",
       "9      Rossum\n",
       "Name: Name, dtype: object"
      ]
     },
     "execution_count": 66,
     "metadata": {},
     "output_type": "execute_result"
    }
   ],
   "source": [
    "Student_data.Name # We are specifically accessing only the student name column from the data frame \n",
    "# Note : The index column(row id) is autogenerated "
   ]
  },
  {
   "cell_type": "code",
   "execution_count": 72,
   "id": "6c2ef995",
   "metadata": {},
   "outputs": [
    {
     "data": {
      "text/html": [
       "<div>\n",
       "<style scoped>\n",
       "    .dataframe tbody tr th:only-of-type {\n",
       "        vertical-align: middle;\n",
       "    }\n",
       "\n",
       "    .dataframe tbody tr th {\n",
       "        vertical-align: top;\n",
       "    }\n",
       "\n",
       "    .dataframe thead th {\n",
       "        text-align: right;\n",
       "    }\n",
       "</style>\n",
       "<table border=\"1\" class=\"dataframe\">\n",
       "  <thead>\n",
       "    <tr style=\"text-align: right;\">\n",
       "      <th></th>\n",
       "      <th>Name</th>\n",
       "    </tr>\n",
       "  </thead>\n",
       "  <tbody>\n",
       "    <tr>\n",
       "      <th>0</th>\n",
       "      <td>Benjamin</td>\n",
       "    </tr>\n",
       "    <tr>\n",
       "      <th>1</th>\n",
       "      <td>Liam</td>\n",
       "    </tr>\n",
       "    <tr>\n",
       "      <th>2</th>\n",
       "      <td>John</td>\n",
       "    </tr>\n",
       "    <tr>\n",
       "      <th>3</th>\n",
       "      <td>Smith</td>\n",
       "    </tr>\n",
       "    <tr>\n",
       "      <th>4</th>\n",
       "      <td>Warner</td>\n",
       "    </tr>\n",
       "    <tr>\n",
       "      <th>5</th>\n",
       "      <td>David</td>\n",
       "    </tr>\n",
       "    <tr>\n",
       "      <th>6</th>\n",
       "      <td>Micheal</td>\n",
       "    </tr>\n",
       "    <tr>\n",
       "      <th>7</th>\n",
       "      <td>James</td>\n",
       "    </tr>\n",
       "    <tr>\n",
       "      <th>8</th>\n",
       "      <td>Dennis</td>\n",
       "    </tr>\n",
       "    <tr>\n",
       "      <th>9</th>\n",
       "      <td>Rossum</td>\n",
       "    </tr>\n",
       "  </tbody>\n",
       "</table>\n",
       "</div>"
      ],
      "text/plain": [
       "       Name\n",
       "0  Benjamin\n",
       "1      Liam\n",
       "2      John\n",
       "3     Smith\n",
       "4    Warner\n",
       "5     David\n",
       "6   Micheal\n",
       "7     James\n",
       "8    Dennis\n",
       "9    Rossum"
      ]
     },
     "execution_count": 72,
     "metadata": {},
     "output_type": "execute_result"
    }
   ],
   "source": [
    "#Alternate approach to access a specific column name \n",
    "#Student_data['Name']\n",
    "Student_data['Name'].to_frame()"
   ]
  },
  {
   "cell_type": "markdown",
   "id": "c52b8c12",
   "metadata": {},
   "source": [
    "# Q-22)"
   ]
  },
  {
   "cell_type": "markdown",
   "id": "25cee375",
   "metadata": {},
   "source": [
    "## Fetching the details of the student whose roll number is 5"
   ]
  },
  {
   "cell_type": "code",
   "execution_count": 68,
   "id": "29eac629",
   "metadata": {},
   "outputs": [
    {
     "data": {
      "text/plain": [
       "Roll_no            5\n",
       "Name          Warner\n",
       "Percentage      61.5\n",
       "Name: 4, dtype: object"
      ]
     },
     "execution_count": 68,
     "metadata": {},
     "output_type": "execute_result"
    }
   ],
   "source": [
    "Student_data.iloc[4] # iloc is a function which takes the row id as an argument. Row id starts from \n",
    "                     # location zero, hence row index 4 refers to the row 5"
   ]
  },
  {
   "cell_type": "code",
   "execution_count": 69,
   "id": "e04b119b",
   "metadata": {},
   "outputs": [
    {
     "data": {
      "text/plain": [
       "Roll_no            5\n",
       "Name          Warner\n",
       "Percentage      61.5\n",
       "Name: 4, dtype: object"
      ]
     },
     "execution_count": 69,
     "metadata": {},
     "output_type": "execute_result"
    }
   ],
   "source": [
    "#Alternate approach to index into a particular row of a data frame \n",
    "Student_data.loc[4]  # loc is another function which accepts row index or even row names \n",
    "\n",
    "# Note : There are situations where row index would be non-numerical, in such situations loc is used. "
   ]
  },
  {
   "cell_type": "markdown",
   "id": "4e687d20",
   "metadata": {},
   "source": [
    "# Q-23)"
   ]
  },
  {
   "cell_type": "markdown",
   "id": "8394b62d",
   "metadata": {},
   "source": [
    "# Fetching the records of students with roll numbers 6, 7, 8 and 9 "
   ]
  },
  {
   "cell_type": "code",
   "execution_count": null,
   "id": "176e9514",
   "metadata": {},
   "outputs": [],
   "source": [
    "Student_data.iloc[5:9]"
   ]
  },
  {
   "cell_type": "markdown",
   "id": "727fa8a3",
   "metadata": {},
   "source": [
    "# Q-24)"
   ]
  },
  {
   "cell_type": "markdown",
   "id": "d317f3b2",
   "metadata": {},
   "source": [
    "## Fetch only the percentage data of the students with roll numbers 3 & 4. "
   ]
  },
  {
   "cell_type": "code",
   "execution_count": null,
   "id": "07af2592",
   "metadata": {},
   "outputs": [],
   "source": [
    "Student_data.iloc[2:4, 2:] # 2:4 stands for row level details, 2: stands for column level details \n",
    "\n",
    "# 2:4 means, fetch the rows between 2 & 4 (exclude 4)\n",
    "# 2: means, fetch the column starting from 2 onwards with index location zero"
   ]
  },
  {
   "cell_type": "code",
   "execution_count": null,
   "id": "0530ca5c",
   "metadata": {},
   "outputs": [],
   "source": [
    "# Alternate approach \n",
    "Student_data.loc[[2,3],['Percentage']]  # loc functin can take arguments which are non numerical \n",
    "                        # percentage is the name of the column in the data frame \n",
    "    \n",
    "                # 2,3 are numerical values representing row index \n",
    "        \n",
    "#Student_data.loc[2:3]['Percentage'] "
   ]
  },
  {
   "cell_type": "markdown",
   "id": "d6b46e4e",
   "metadata": {},
   "source": [
    "# Q-25)"
   ]
  },
  {
   "cell_type": "markdown",
   "id": "3c59fa50",
   "metadata": {},
   "source": [
    "# Fetch the name and percentage of students whose roll numbers are 1, 3, 5 and 7."
   ]
  },
  {
   "cell_type": "code",
   "execution_count": null,
   "id": "71e484ab",
   "metadata": {},
   "outputs": [],
   "source": [
    "Student_data.iloc[1:8:2, 1:3]\n",
    "                  #1:8:2, means : fetch rows with index starting from 1 to 8 with a gap of 2 numbers\n",
    "                         #1:3, means :fetch the columns with position 0 to 3 (ignore 3rd column)                   "
   ]
  },
  {
   "cell_type": "code",
   "execution_count": null,
   "id": "c23b3eef",
   "metadata": {},
   "outputs": [],
   "source": [
    "#Alternate approach\n",
    "Student_data.loc[[1,3,5,7], ['Name','Percentage']]\n"
   ]
  },
  {
   "cell_type": "markdown",
   "id": "bc2da2fd",
   "metadata": {},
   "source": [
    "# Q-26)"
   ]
  },
  {
   "cell_type": "markdown",
   "id": "3b75aa82",
   "metadata": {},
   "source": [
    "## Identify the students who have scored above 70%."
   ]
  },
  {
   "cell_type": "code",
   "execution_count": null,
   "id": "5035942b",
   "metadata": {},
   "outputs": [],
   "source": [
    "Student_data[Student_data.Percentage > 70]"
   ]
  },
  {
   "cell_type": "code",
   "execution_count": null,
   "id": "165d3549",
   "metadata": {},
   "outputs": [],
   "source": [
    "#Alternate approach \n",
    "Student_data[Student_data['Percentage'] > 70]"
   ]
  },
  {
   "cell_type": "markdown",
   "id": "06422e2e",
   "metadata": {},
   "source": [
    "# Q-27)"
   ]
  },
  {
   "cell_type": "markdown",
   "id": "e341b9e6",
   "metadata": {},
   "source": [
    "# Fetch only the roll numbers and names of the students who have scored above 80%."
   ]
  },
  {
   "cell_type": "code",
   "execution_count": null,
   "id": "74d071ed",
   "metadata": {},
   "outputs": [],
   "source": [
    "F = Student_data[Student_data['Percentage'] > 80]\n",
    "F.iloc[:, 0:2]"
   ]
  },
  {
   "cell_type": "code",
   "execution_count": null,
   "id": "7d14fb51",
   "metadata": {},
   "outputs": [],
   "source": [
    "#Alternate approach\n",
    "F1 = Student_data[Student_data['Percentage'] > 80]\n",
    "F1.loc[0:10,['Roll_no','Name']]"
   ]
  },
  {
   "cell_type": "code",
   "execution_count": null,
   "id": "53e2c8e5",
   "metadata": {},
   "outputs": [],
   "source": []
  }
 ],
 "metadata": {
  "kernelspec": {
   "display_name": "Python 3 (ipykernel)",
   "language": "python",
   "name": "python3"
  },
  "language_info": {
   "codemirror_mode": {
    "name": "ipython",
    "version": 3
   },
   "file_extension": ".py",
   "mimetype": "text/x-python",
   "name": "python",
   "nbconvert_exporter": "python",
   "pygments_lexer": "ipython3",
   "version": "3.10.2"
  }
 },
 "nbformat": 4,
 "nbformat_minor": 5
}
