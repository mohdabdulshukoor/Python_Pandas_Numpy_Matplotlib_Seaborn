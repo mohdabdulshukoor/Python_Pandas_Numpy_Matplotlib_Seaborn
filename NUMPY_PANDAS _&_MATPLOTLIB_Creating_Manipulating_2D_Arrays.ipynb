{
 "cells": [
  {
   "cell_type": "markdown",
   "id": "902d2a5f",
   "metadata": {},
   "source": [
    "#  2 Dimensional Arrays  (Tabular Representation of Data)"
   ]
  },
  {
   "cell_type": "markdown",
   "id": "ddb3306d",
   "metadata": {},
   "source": [
    "# Q1) A company wishes to allocate the employee codes from 101 to 105 along with the ages 25, 26, 27, 28, and 29 (in years) to its employees. How can you represent this data using arrays?  "
   ]
  },
  {
   "cell_type": "code",
   "execution_count": 2,
   "id": "b4505f5c",
   "metadata": {},
   "outputs": [
    {
     "data": {
      "text/plain": [
       "array([[101, 102, 103, 104, 105],\n",
       "       [ 25,  26,  27,  28,  29]])"
      ]
     },
     "execution_count": 2,
     "metadata": {},
     "output_type": "execute_result"
    }
   ],
   "source": [
    "#Using 2D arrays you can accomplish this task\n",
    "import numpy as np\n",
    "emp_code = [101,102,103,104,105]\n",
    "emp_age = [25,26,27,28,29]\n",
    "emp_data = np.array([emp_code, emp_age])\n",
    "emp_data"
   ]
  },
  {
   "cell_type": "markdown",
   "id": "f68d57e6",
   "metadata": {},
   "source": [
    "emp_data.shape "
   ]
  },
  {
   "cell_type": "code",
   "execution_count": 2,
   "id": "0ecc5635",
   "metadata": {},
   "outputs": [
    {
     "data": {
      "text/plain": [
       "2"
      ]
     },
     "execution_count": 2,
     "metadata": {},
     "output_type": "execute_result"
    }
   ],
   "source": [
    "emp_data.ndim #Checking array dimension"
   ]
  },
  {
   "cell_type": "markdown",
   "id": "0f1e45d4",
   "metadata": {},
   "source": [
    "## Columnar view of the data: We would like to see the employee IDs along with the ages in a tabular orientation.\n"
   ]
  },
  {
   "cell_type": "code",
   "execution_count": 3,
   "id": "3f981c95",
   "metadata": {},
   "outputs": [
    {
     "data": {
      "text/plain": [
       "array([[101,  25],\n",
       "       [102,  26],\n",
       "       [103,  27],\n",
       "       [104,  28],\n",
       "       [105,  29]])"
      ]
     },
     "execution_count": 3,
     "metadata": {},
     "output_type": "execute_result"
    }
   ],
   "source": [
    "emp_data.T # We use the Transpose operation to change row and column positions "
   ]
  },
  {
   "cell_type": "markdown",
   "id": "0aae133a",
   "metadata": {},
   "source": [
    "### Creating  2D arrays with random numbers"
   ]
  },
  {
   "cell_type": "code",
   "execution_count": 4,
   "id": "0ea43ca8",
   "metadata": {},
   "outputs": [
    {
     "data": {
      "text/plain": [
       "array([[2, 4, 3],\n",
       "       [2, 1, 2],\n",
       "       [2, 1, 3]])"
      ]
     },
     "execution_count": 4,
     "metadata": {},
     "output_type": "execute_result"
    }
   ],
   "source": [
    "#Genrating 2D arrays with the integer value from 1 to 4, with a shape of 3x3\n",
    "np.random.randint(1, 5, size=(3, 3)) \n",
    "# The randint function generates random numbers between the range 1 to 5\n",
    "# The size function transforms the data into 3 by 3 arrays\n"
   ]
  },
  {
   "cell_type": "markdown",
   "id": "2dd225cc",
   "metadata": {},
   "source": [
    "# Q-2)"
   ]
  },
  {
   "cell_type": "markdown",
   "id": "70143436",
   "metadata": {},
   "source": [
    "# Accessing the elements of 2D arrays"
   ]
  },
  {
   "cell_type": "code",
   "execution_count": 6,
   "id": "a87cf5d2",
   "metadata": {},
   "outputs": [
    {
     "data": {
      "text/plain": [
       "array([[101, 102, 103, 104, 105],\n",
       "       [ 25,  26,  27,  28,  29]])"
      ]
     },
     "execution_count": 6,
     "metadata": {},
     "output_type": "execute_result"
    }
   ],
   "source": [
    "emp_data  # Printing the array contents "
   ]
  },
  {
   "cell_type": "markdown",
   "id": "7c8d4087",
   "metadata": {},
   "source": [
    "### 2.1:  Display the ages of all the employees from the emp_data"
   ]
  },
  {
   "cell_type": "code",
   "execution_count": 10,
   "id": "35229d21",
   "metadata": {},
   "outputs": [
    {
     "data": {
      "text/plain": [
       "array([25, 26, 27, 28, 29])"
      ]
     },
     "execution_count": 10,
     "metadata": {},
     "output_type": "execute_result"
    }
   ],
   "source": [
    "#Displaying ages\n",
    "emp_data[1] # would display the Row at location 1 from emp_data"
   ]
  },
  {
   "cell_type": "markdown",
   "id": "06628238",
   "metadata": {},
   "source": [
    "### 2.2:   Display all the employee codes."
   ]
  },
  {
   "cell_type": "code",
   "execution_count": 11,
   "id": "f3081c18",
   "metadata": {},
   "outputs": [
    {
     "data": {
      "text/plain": [
       "array([101, 102, 103, 104, 105])"
      ]
     },
     "execution_count": 11,
     "metadata": {},
     "output_type": "execute_result"
    }
   ],
   "source": [
    "#Displaying employee code\n",
    "emp_data[0] # Index location 1 would display the Row at location 1 from emp_data"
   ]
  },
  {
   "cell_type": "markdown",
   "id": "24a2a247",
   "metadata": {},
   "source": [
    "### 2.3: Display the employee code of the employee with age 28."
   ]
  },
  {
   "cell_type": "code",
   "execution_count": 12,
   "id": "d1c7eb3b",
   "metadata": {},
   "outputs": [
    {
     "data": {
      "text/plain": [
       "array([[101, 102, 103, 104, 105],\n",
       "       [ 25,  26,  27,  28,  29]])"
      ]
     },
     "execution_count": 12,
     "metadata": {},
     "output_type": "execute_result"
    }
   ],
   "source": [
    "emp_data # Displaying the contents of the emp_data array for quick reference !"
   ]
  },
  {
   "cell_type": "code",
   "execution_count": 15,
   "id": "94346f59",
   "metadata": {},
   "outputs": [
    {
     "data": {
      "text/plain": [
       "104"
      ]
     },
     "execution_count": 15,
     "metadata": {},
     "output_type": "execute_result"
    }
   ],
   "source": [
    "#Display the employee code where the employee age is 28\n",
    "emp_data[0][3] "
   ]
  },
  {
   "cell_type": "markdown",
   "id": "65fd0ff3",
   "metadata": {},
   "source": [
    "### 2.4: Display the ages of the employees aged from 27 years to 29 years."
   ]
  },
  {
   "cell_type": "code",
   "execution_count": 16,
   "id": "ff65b6bd",
   "metadata": {},
   "outputs": [
    {
     "data": {
      "text/plain": [
       "array([[101, 102, 103, 104, 105],\n",
       "       [ 25,  26,  27,  28,  29]])"
      ]
     },
     "execution_count": 16,
     "metadata": {},
     "output_type": "execute_result"
    }
   ],
   "source": [
    "emp_data # Displaying the contents of the emp_data array for quick reference !"
   ]
  },
  {
   "cell_type": "code",
   "execution_count": 17,
   "id": "b38251ad",
   "metadata": {},
   "outputs": [
    {
     "data": {
      "text/plain": [
       "array([27, 28, 29])"
      ]
     },
     "execution_count": 17,
     "metadata": {},
     "output_type": "execute_result"
    }
   ],
   "source": [
    "emp_data[1][2:] \n",
    "# The notation 2: would print the data from index location 2 onwards till the end"
   ]
  },
  {
   "cell_type": "markdown",
   "id": "ad573a75",
   "metadata": {},
   "source": [
    "### 2.5: Display the employee codes from 102 to 104."
   ]
  },
  {
   "cell_type": "code",
   "execution_count": 18,
   "id": "805f92f1",
   "metadata": {},
   "outputs": [
    {
     "data": {
      "text/plain": [
       "array([102, 103, 104])"
      ]
     },
     "execution_count": 18,
     "metadata": {},
     "output_type": "execute_result"
    }
   ],
   "source": [
    "emp_data[0][1:4]"
   ]
  },
  {
   "cell_type": "markdown",
   "id": "b7bd35e8",
   "metadata": {},
   "source": [
    "### 2.6: How can you display the records of the employees with the employee codes from 102 to 104 along with their ages?"
   ]
  },
  {
   "cell_type": "code",
   "execution_count": 19,
   "id": "51736e0b",
   "metadata": {},
   "outputs": [
    {
     "data": {
      "text/plain": [
       "array([[101, 102, 103, 104, 105],\n",
       "       [ 25,  26,  27,  28,  29]])"
      ]
     },
     "execution_count": 19,
     "metadata": {},
     "output_type": "execute_result"
    }
   ],
   "source": [
    "emp_data # Displaying the contents of the emp_data array for quick reference !"
   ]
  },
  {
   "cell_type": "code",
   "execution_count": 22,
   "id": "276dc79d",
   "metadata": {},
   "outputs": [
    {
     "data": {
      "text/plain": [
       "array([[102, 103, 104],\n",
       "       [ 26,  27,  28]])"
      ]
     },
     "execution_count": 22,
     "metadata": {},
     "output_type": "execute_result"
    }
   ],
   "source": [
    "emp_data[0:2,1:4]"
   ]
  },
  {
   "cell_type": "markdown",
   "id": "57befe38",
   "metadata": {},
   "source": [
    "### 2.7: Find the age of the employee with the employee code 102."
   ]
  },
  {
   "cell_type": "code",
   "execution_count": 23,
   "id": "966d199b",
   "metadata": {},
   "outputs": [
    {
     "data": {
      "text/plain": [
       "array([[101, 102, 103, 104, 105],\n",
       "       [ 25,  26,  27,  28,  29]])"
      ]
     },
     "execution_count": 23,
     "metadata": {},
     "output_type": "execute_result"
    }
   ],
   "source": [
    "emp_data # Displaying the contents of the emp_data array for quick reference !"
   ]
  },
  {
   "cell_type": "code",
   "execution_count": 24,
   "id": "01f113e4",
   "metadata": {},
   "outputs": [
    {
     "name": "stdout",
     "output_type": "stream",
     "text": [
      "[26]\n"
     ]
    }
   ],
   "source": [
    "Index=np.where(emp_data[0] == 102) # where function will return the index of the \n",
    "# condition is satisfied ! \n",
    "print(emp_data[1][Index])\n",
    "\n",
    "# Note : Try the above code with numbers other than 102"
   ]
  },
  {
   "cell_type": "markdown",
   "id": "3f8785a3",
   "metadata": {},
   "source": [
    "# Updating 2D arrays: "
   ]
  },
  {
   "cell_type": "markdown",
   "id": "8a97b23c",
   "metadata": {},
   "source": [
    "# Q-3)"
   ]
  },
  {
   "cell_type": "markdown",
   "id": "fe555ee9",
   "metadata": {},
   "source": [
    "### 3.1: The employee with the employee code 103 wants to update the age with a new age 31. How can you accomplish this task?"
   ]
  },
  {
   "cell_type": "code",
   "execution_count": 26,
   "id": "29cfb11b",
   "metadata": {},
   "outputs": [
    {
     "name": "stdout",
     "output_type": "stream",
     "text": [
      "[31]\n"
     ]
    }
   ],
   "source": [
    "Index=np.where(emp_data[0] == 103)\n",
    "emp_data[1][Index] = 31\n",
    "print(emp_data[1][Index])"
   ]
  },
  {
   "cell_type": "code",
   "execution_count": 27,
   "id": "7ef1c3e2",
   "metadata": {},
   "outputs": [
    {
     "data": {
      "text/plain": [
       "array([[101, 102, 103, 104, 105],\n",
       "       [ 25,  26,  31,  28,  29]])"
      ]
     },
     "execution_count": 27,
     "metadata": {},
     "output_type": "execute_result"
    }
   ],
   "source": [
    "emp_data"
   ]
  },
  {
   "cell_type": "markdown",
   "id": "f117995f",
   "metadata": {},
   "source": [
    "### 3.2: The company wants to add the annual salaries of all the employees in the existing record. Add the annual salary of 35,000, 45,000, 40,000, 30,000, and 50,000 for the employees with the employee codes from 101 to 105, respectively. "
   ]
  },
  {
   "cell_type": "code",
   "execution_count": 32,
   "id": "663ef5d3",
   "metadata": {},
   "outputs": [],
   "source": [
    "sal = np.array([35000, 45000, 40000, 30000, 50000])\n",
    "emp_data1=np.append(emp_data, [sal],axis=0)"
   ]
  },
  {
   "cell_type": "code",
   "execution_count": 34,
   "id": "48e11544",
   "metadata": {},
   "outputs": [
    {
     "data": {
      "text/plain": [
       "array([[  101,   102,   103,   104,   105],\n",
       "       [   25,    26,    31,    28,    29],\n",
       "       [35000, 45000, 40000, 30000, 50000]])"
      ]
     },
     "execution_count": 34,
     "metadata": {},
     "output_type": "execute_result"
    }
   ],
   "source": [
    "emp_data1"
   ]
  },
  {
   "cell_type": "markdown",
   "id": "b6bae7e0",
   "metadata": {},
   "source": [
    "### 3.3: Display the records of the employees with the employee codes 101 to 103."
   ]
  },
  {
   "cell_type": "code",
   "execution_count": 35,
   "id": "fe8a048e",
   "metadata": {},
   "outputs": [
    {
     "data": {
      "text/plain": [
       "array([[  101,   102,   103],\n",
       "       [   25,    26,    31],\n",
       "       [35000, 45000, 40000]])"
      ]
     },
     "execution_count": 35,
     "metadata": {},
     "output_type": "execute_result"
    }
   ],
   "source": [
    "emp_data1[0:3,0:3]"
   ]
  },
  {
   "cell_type": "markdown",
   "id": "bfef4bdb",
   "metadata": {},
   "source": [
    "### 3.4: The HR wants to update the salary of the employee with the employee code 102 with a new salary 43,500. Help the HR to accomplish this task."
   ]
  },
  {
   "cell_type": "code",
   "execution_count": 36,
   "id": "be0bcf07",
   "metadata": {},
   "outputs": [
    {
     "name": "stdout",
     "output_type": "stream",
     "text": [
      "[43500]\n"
     ]
    }
   ],
   "source": [
    "Index1=np.where(emp_data[0] == 102)\n",
    "emp_data1[2][Index1] = 43500\n",
    "print(emp_data1[2][Index1])"
   ]
  },
  {
   "cell_type": "code",
   "execution_count": 37,
   "id": "0ab82538",
   "metadata": {},
   "outputs": [
    {
     "data": {
      "text/plain": [
       "array([[  101,   102,   103,   104,   105],\n",
       "       [   25,    26,    31,    28,    29],\n",
       "       [35000, 43500, 40000, 30000, 50000]])"
      ]
     },
     "execution_count": 37,
     "metadata": {},
     "output_type": "execute_result"
    }
   ],
   "source": [
    "emp_data1"
   ]
  },
  {
   "cell_type": "markdown",
   "id": "ede653cf",
   "metadata": {},
   "source": [
    "# Q-4) 2D Array's Manipulation:"
   ]
  },
  {
   "cell_type": "markdown",
   "id": "24a3c09b",
   "metadata": {},
   "source": [
    "### The CEO of the organization has suggested to present all possible reports related to employees’ data to the HR team to understand the spread of salaries of the employees to take the decision for future recruitment and managing human resources expenses. How can you accomplish this task?"
   ]
  },
  {
   "cell_type": "markdown",
   "id": "0917430d",
   "metadata": {},
   "source": [
    "### 4.1: Help Thomas, the financial analyst, to find the total annual salary of all employees."
   ]
  },
  {
   "cell_type": "code",
   "execution_count": 38,
   "id": "e39681d7",
   "metadata": {},
   "outputs": [
    {
     "data": {
      "text/plain": [
       "198500"
      ]
     },
     "execution_count": 38,
     "metadata": {},
     "output_type": "execute_result"
    }
   ],
   "source": [
    "total_salary = np.sum(emp_data1[2])\n",
    "total_salary"
   ]
  },
  {
   "cell_type": "markdown",
   "id": "3f906c6f",
   "metadata": {},
   "source": [
    "### 4.2: Help Thomas to calculate the average age of employees."
   ]
  },
  {
   "cell_type": "code",
   "execution_count": 39,
   "id": "0edc20c5",
   "metadata": {},
   "outputs": [
    {
     "data": {
      "text/plain": [
       "27.8"
      ]
     },
     "execution_count": 39,
     "metadata": {},
     "output_type": "execute_result"
    }
   ],
   "source": [
    "avg_age = np.mean(emp_data1[1])\n",
    "avg_age"
   ]
  },
  {
   "cell_type": "markdown",
   "id": "256bec7f",
   "metadata": {},
   "source": [
    "### 4.3: The company has hired a new employee who is 27 years old, with an annual salary of 37,000 with the employee code 106. Add the employee details in the existing record of employees.\n",
    "    "
   ]
  },
  {
   "cell_type": "code",
   "execution_count": 41,
   "id": "441ae32d",
   "metadata": {},
   "outputs": [
    {
     "name": "stdout",
     "output_type": "stream",
     "text": [
      "[[  101   102   103   104   105   106]\n",
      " [   25    26    31    28    29    27]\n",
      " [35000 43500 40000 30000 50000 37000]]\n"
     ]
    }
   ],
   "source": [
    "b = np.array([[106],[27],[37000]])\n",
    "emp_data1 = np.append(emp_data1, b, axis = 1)\n",
    "print(emp_data1)"
   ]
  },
  {
   "cell_type": "markdown",
   "id": "7b8a2fe2",
   "metadata": {},
   "source": [
    "### 4.4: The employee with the code 103 wishes to resign from the current job position. The company needs to remove the employee's data and update the record. How can you accomplish this task?"
   ]
  },
  {
   "cell_type": "code",
   "execution_count": 44,
   "id": "fa5d2893",
   "metadata": {},
   "outputs": [
    {
     "data": {
      "text/plain": [
       "array([[  101,   102,   104,   105,   106],\n",
       "       [   25,    26,    28,    29,    27],\n",
       "       [35000, 43500, 30000, 50000, 37000]])"
      ]
     },
     "execution_count": 44,
     "metadata": {},
     "output_type": "execute_result"
    }
   ],
   "source": [
    "emp_data1 = np.delete(emp_data1,2,axis = 1) \n",
    "emp_data1"
   ]
  },
  {
   "cell_type": "markdown",
   "id": "87d7df38",
   "metadata": {},
   "source": [
    "### 4.5: The company has decided to give a bonus amount to all the employees who are getting the annual salary more than 35,000 USD. For this, the company needs to know the number of such employees along with their salaries. "
   ]
  },
  {
   "cell_type": "code",
   "execution_count": 47,
   "id": "22777ad2",
   "metadata": {},
   "outputs": [
    {
     "name": "stdout",
     "output_type": "stream",
     "text": [
      "[43500 50000 37000]\n",
      "Total number of emplyees who's salary is more than $35000: 3\n"
     ]
    }
   ],
   "source": [
    "index1 = np.where(emp_data1[2] > 35000)\n",
    "print(emp_data1[2][index1]) #Here the output represent all the salaries more than 30000 USD\n",
    "s = emp_data1[2][index1].size # Count of salaries\n",
    "print(\"Total number of emplyees who's salary is more than $35000:\", s)"
   ]
  },
  {
   "cell_type": "code",
   "execution_count": 48,
   "id": "9f1a7330",
   "metadata": {},
   "outputs": [
    {
     "data": {
      "text/plain": [
       "(array([1, 3, 4], dtype=int64),)"
      ]
     },
     "execution_count": 48,
     "metadata": {},
     "output_type": "execute_result"
    }
   ],
   "source": [
    "index1"
   ]
  },
  {
   "cell_type": "code",
   "execution_count": 49,
   "id": "f8b6416e",
   "metadata": {},
   "outputs": [
    {
     "data": {
      "text/plain": [
       "array([[  102,   105,   106],\n",
       "       [   26,    29,    27],\n",
       "       [43500, 50000, 37000]])"
      ]
     },
     "execution_count": 49,
     "metadata": {},
     "output_type": "execute_result"
    }
   ],
   "source": [
    "emp_data1[0:,[1,3,4]]"
   ]
  },
  {
   "cell_type": "markdown",
   "id": "27a0ef86",
   "metadata": {},
   "source": [
    "# Q-5) Matrix Manipulation: \n",
    "Note : Matrix is a 2D numerical array used for scientific calculuations."
   ]
  },
  {
   "cell_type": "markdown",
   "id": "a501c877",
   "metadata": {},
   "source": [
    "Matrix Creation: Create a matrix of 3x3 in which each column represent roll_no, marks, and percentage of the students."
   ]
  },
  {
   "cell_type": "code",
   "execution_count": 50,
   "id": "857ed902",
   "metadata": {},
   "outputs": [
    {
     "name": "stdout",
     "output_type": "stream",
     "text": [
      "[[  1 420  70]\n",
      " [  2 480  80]\n",
      " [  3 540  90]]\n"
     ]
    }
   ],
   "source": [
    "List = [[1,420,70],[2,480,80],[3,540,90]]\n",
    "matrix = np.array(List)\n",
    "print(matrix)"
   ]
  },
  {
   "cell_type": "markdown",
   "id": "a9c3960f",
   "metadata": {},
   "source": [
    "Matrix Transpose: Perform the transpose of matrix so that each row represents roll_no, marks, and percentage of the students."
   ]
  },
  {
   "cell_type": "code",
   "execution_count": 51,
   "id": "b484cd95",
   "metadata": {},
   "outputs": [
    {
     "data": {
      "text/plain": [
       "array([[  1,   2,   3],\n",
       "       [420, 480, 540],\n",
       "       [ 70,  80,  90]])"
      ]
     },
     "execution_count": 51,
     "metadata": {},
     "output_type": "execute_result"
    }
   ],
   "source": [
    "np.transpose(matrix)"
   ]
  },
  {
   "cell_type": "markdown",
   "id": "04260aa4",
   "metadata": {},
   "source": [
    "Matrix arithmetic operations: Create another matrix of 3x3 with random values."
   ]
  },
  {
   "cell_type": "code",
   "execution_count": 55,
   "id": "d846cd79",
   "metadata": {},
   "outputs": [
    {
     "name": "stdout",
     "output_type": "stream",
     "text": [
      "[[4522051 5439571 5374031]\n",
      " [4259935 4390994 4784200]\n",
      " [4522068 5505091 5374037]]\n"
     ]
    }
   ],
   "source": [
    "matrix1= np.empty((3,3), dtype=int)\n",
    "print(matrix1)"
   ]
  },
  {
   "cell_type": "code",
   "execution_count": 56,
   "id": "d6f7660e",
   "metadata": {},
   "outputs": [
    {
     "name": "stdout",
     "output_type": "stream",
     "text": [
      "[[4522052 5439991 5374101]\n",
      " [4259937 4391474 4784280]\n",
      " [4522071 5505631 5374127]]\n"
     ]
    }
   ],
   "source": [
    "#Matrix addition, subtraction, element-wise multiplication\n",
    "sum = matrix + matrix1\n",
    "print(sum)\n"
   ]
  },
  {
   "cell_type": "code",
   "execution_count": 57,
   "id": "d6fc3d71",
   "metadata": {},
   "outputs": [
    {
     "name": "stdout",
     "output_type": "stream",
     "text": [
      "[[-4522050 -5439151 -5373961]\n",
      " [-4259933 -4390514 -4784120]\n",
      " [-4522065 -5504551 -5373947]]\n"
     ]
    }
   ],
   "source": [
    "sub = matrix - matrix1\n",
    "print(sub)"
   ]
  },
  {
   "cell_type": "code",
   "execution_count": 58,
   "id": "c1906832",
   "metadata": {},
   "outputs": [
    {
     "name": "stdout",
     "output_type": "stream",
     "text": [
      "[[    4522051 -2010347476   376182170]\n",
      " [    8519870  2107677120   382736000]\n",
      " [   13566204 -1322218156   483663330]]\n"
     ]
    }
   ],
   "source": [
    "#Element-wise matrix multiplication\n",
    "mul = matrix * matrix1\n",
    "print(mul)"
   ]
  },
  {
   "cell_type": "code",
   "execution_count": 59,
   "id": "a866b070",
   "metadata": {},
   "outputs": [
    {
     "name": "stdout",
     "output_type": "stream",
     "text": [
      "[[ 2110239511 -2059953875 -1904046675]\n",
      " [-1879388954 -1736003754 -1557880274]\n",
      " [-1574050123 -1412053633 -1211713873]]\n"
     ]
    }
   ],
   "source": [
    "#Real-time matrix multiplication\n",
    "mult= matrix.dot(matrix1)\n",
    "print(mult)"
   ]
  },
  {
   "cell_type": "markdown",
   "id": "eace7e8e",
   "metadata": {},
   "source": [
    "# Reading data from CSV file"
   ]
  },
  {
   "cell_type": "markdown",
   "id": "43ad046f",
   "metadata": {},
   "source": [
    "## Axess is an e-commerce company in the US.  \"shopping-data.CSV\" contains the customer information. There are 4 columns in this dataset:  CustomerID, Age, Annual Income in USD, and Spending score (1 to 100)."
   ]
  },
  {
   "cell_type": "code",
   "execution_count": 60,
   "id": "5511d047",
   "metadata": {},
   "outputs": [
    {
     "data": {
      "text/plain": [
       "'C:\\\\Users\\\\ishan.singh'"
      ]
     },
     "execution_count": 60,
     "metadata": {},
     "output_type": "execute_result"
    }
   ],
   "source": [
    "pwd #Find present working directory"
   ]
  },
  {
   "cell_type": "code",
   "execution_count": 39,
   "id": "d663f8a5",
   "metadata": {},
   "outputs": [],
   "source": [
    "#Make sure you have \"shopping-data.csv\" in your current working directory"
   ]
  },
  {
   "cell_type": "code",
   "execution_count": 62,
   "id": "26dce815",
   "metadata": {},
   "outputs": [
    {
     "name": "stdout",
     "output_type": "stream",
     "text": [
      "[[  1.  19.  15.  39.]\n",
      " [  2.  21.  15.  81.]\n",
      " [  3.  20.  16.   6.]\n",
      " [  4.  23.  16.  77.]\n",
      " [  5.  31.  17.  40.]\n",
      " [  6.  22.  17.  76.]\n",
      " [  7.  35.  18.   6.]\n",
      " [  8.  23.  18.  94.]\n",
      " [  9.  64.  19.   3.]\n",
      " [ 10.  30.  19.  72.]\n",
      " [ 11.  67.  19.  14.]\n",
      " [ 12.  35.  19.  99.]\n",
      " [ 13.  58.  20.  15.]\n",
      " [ 14.  24.  20.  77.]\n",
      " [ 15.  37.  20.  13.]\n",
      " [ 16.  22.  20.  79.]\n",
      " [ 17.  35.  21.  35.]\n",
      " [ 18.  20.  21.  66.]\n",
      " [ 19.  52.  23.  29.]\n",
      " [ 20.  35.  23.  98.]\n",
      " [ 21.  35.  24.  35.]\n",
      " [ 22.  25.  24.  73.]\n",
      " [ 23.  46.  25.   5.]\n",
      " [ 24.  31.  25.  73.]\n",
      " [ 25.  54.  28.  14.]\n",
      " [ 26.  29.  28.  82.]\n",
      " [ 27.  45.  28.  32.]\n",
      " [ 28.  35.  28.  61.]\n",
      " [ 29.  40.  29.  31.]\n",
      " [ 30.  23.  29.  87.]\n",
      " [ 31.  60.  30.   4.]\n",
      " [ 32.  21.  30.  73.]\n",
      " [ 33.  53.  33.   4.]\n",
      " [ 34.  18.  33.  92.]\n",
      " [ 35.  49.  33.  14.]\n",
      " [ 36.  21.  33.  81.]\n",
      " [ 37.  42.  34.  17.]\n",
      " [ 38.  30.  34.  73.]\n",
      " [ 39.  36.  37.  26.]\n",
      " [ 40.  20.  37.  75.]\n",
      " [ 41.  65.  38.  35.]\n",
      " [ 42.  24.  38.  92.]\n",
      " [ 43.  48.  39.  36.]\n",
      " [ 44.  31.  39.  61.]\n",
      " [ 45.  49.  39.  28.]\n",
      " [ 46.  24.  39.  65.]\n",
      " [ 47.  50.  40.  55.]\n",
      " [ 48.  27.  40.  47.]\n",
      " [ 49.  29.  40.  42.]\n",
      " [ 50.  31.  40.  42.]\n",
      " [ 51.  49.  42.  52.]\n",
      " [ 52.  33.  42.  60.]\n",
      " [ 53.  31.  43.  54.]\n",
      " [ 54.  59.  43.  60.]\n",
      " [ 55.  50.  43.  45.]\n",
      " [ 56.  47.  43.  41.]\n",
      " [ 57.  51.  44.  50.]\n",
      " [ 58.  69.  44.  46.]\n",
      " [ 59.  27.  46.  51.]\n",
      " [ 60.  53.  46.  46.]\n",
      " [ 61.  70.  46.  56.]\n",
      " [ 62.  19.  46.  55.]\n",
      " [ 63.  67.  47.  52.]\n",
      " [ 64.  54.  47.  59.]\n",
      " [ 65.  63.  48.  51.]\n",
      " [ 66.  18.  48.  59.]\n",
      " [ 67.  43.  48.  50.]\n",
      " [ 68.  68.  48.  48.]\n",
      " [ 69.  19.  48.  59.]\n",
      " [ 70.  32.  48.  47.]\n",
      " [ 71.  70.  49.  55.]\n",
      " [ 72.  47.  49.  42.]\n",
      " [ 73.  60.  50.  49.]\n",
      " [ 74.  60.  50.  56.]\n",
      " [ 75.  59.  54.  47.]\n",
      " [ 76.  26.  54.  54.]\n",
      " [ 77.  45.  54.  53.]\n",
      " [ 78.  40.  54.  48.]\n",
      " [ 79.  23.  54.  52.]\n",
      " [ 80.  49.  54.  42.]\n",
      " [ 81.  57.  54.  51.]\n",
      " [ 82.  38.  54.  55.]\n",
      " [ 83.  67.  54.  41.]\n",
      " [ 84.  46.  54.  44.]\n",
      " [ 85.  21.  54.  57.]\n",
      " [ 86.  48.  54.  46.]\n",
      " [ 87.  55.  57.  58.]\n",
      " [ 88.  22.  57.  55.]\n",
      " [ 89.  34.  58.  60.]\n",
      " [ 90.  50.  58.  46.]\n",
      " [ 91.  68.  59.  55.]\n",
      " [ 92.  18.  59.  41.]\n",
      " [ 93.  48.  60.  49.]\n",
      " [ 94.  40.  60.  40.]\n",
      " [ 95.  32.  60.  42.]\n",
      " [ 96.  24.  60.  52.]\n",
      " [ 97.  47.  60.  47.]\n",
      " [ 98.  27.  60.  50.]\n",
      " [ 99.  48.  61.  42.]\n",
      " [100.  20.  61.  49.]\n",
      " [101.  23.  62.  41.]\n",
      " [102.  49.  62.  48.]\n",
      " [103.  67.  62.  59.]\n",
      " [104.  26.  62.  55.]\n",
      " [105.  49.  62.  56.]\n",
      " [106.  21.  62.  42.]\n",
      " [107.  66.  63.  50.]\n",
      " [108.  54.  63.  46.]\n",
      " [109.  68.  63.  43.]\n",
      " [110.  66.  63.  48.]\n",
      " [111.  65.  63.  52.]\n",
      " [112.  19.  63.  54.]\n",
      " [113.  38.  64.  42.]\n",
      " [114.  19.  64.  46.]\n",
      " [115.  18.  65.  48.]\n",
      " [116.  19.  65.  50.]\n",
      " [117.  63.  65.  43.]\n",
      " [118.  49.  65.  59.]\n",
      " [119.  51.  67.  43.]\n",
      " [120.  50.  67.  57.]\n",
      " [121.  27.  67.  56.]\n",
      " [122.  38.  67.  40.]\n",
      " [123.  40.  69.  58.]\n",
      " [124.  39.  69.  91.]\n",
      " [125.  23.  70.  29.]\n",
      " [126.  31.  70.  77.]\n",
      " [127.  43.  71.  35.]\n",
      " [128.  40.  71.  95.]\n",
      " [129.  59.  71.  11.]\n",
      " [130.  38.  71.  75.]\n",
      " [131.  47.  71.   9.]\n",
      " [132.  39.  71.  75.]\n",
      " [133.  25.  72.  34.]\n",
      " [134.  31.  72.  71.]\n",
      " [135.  20.  73.   5.]\n",
      " [136.  29.  73.  88.]\n",
      " [137.  44.  73.   7.]\n",
      " [138.  32.  73.  73.]\n",
      " [139.  19.  74.  10.]\n",
      " [140.  35.  74.  72.]\n",
      " [141.  57.  75.   5.]\n",
      " [142.  32.  75.  93.]\n",
      " [143.  28.  76.  40.]\n",
      " [144.  32.  76.  87.]\n",
      " [145.  25.  77.  12.]\n",
      " [146.  28.  77.  97.]\n",
      " [147.  48.  77.  36.]\n",
      " [148.  32.  77.  74.]\n",
      " [149.  34.  78.  22.]\n",
      " [150.  34.  78.  90.]\n",
      " [151.  43.  78.  17.]\n",
      " [152.  39.  78.  88.]\n",
      " [153.  44.  78.  20.]\n",
      " [154.  38.  78.  76.]\n",
      " [155.  47.  78.  16.]\n",
      " [156.  27.  78.  89.]\n",
      " [157.  37.  78.   1.]\n",
      " [158.  30.  78.  78.]\n",
      " [159.  34.  78.   1.]\n",
      " [160.  30.  78.  73.]\n",
      " [161.  56.  79.  35.]\n",
      " [162.  29.  79.  83.]\n",
      " [163.  19.  81.   5.]\n",
      " [164.  31.  81.  93.]\n",
      " [165.  50.  85.  26.]\n",
      " [166.  36.  85.  75.]\n",
      " [167.  42.  86.  20.]\n",
      " [168.  33.  86.  95.]\n",
      " [169.  36.  87.  27.]\n",
      " [170.  32.  87.  63.]\n",
      " [171.  40.  87.  13.]\n",
      " [172.  28.  87.  75.]\n",
      " [173.  36.  87.  10.]\n",
      " [174.  36.  87.  92.]\n",
      " [175.  52.  88.  13.]\n",
      " [176.  30.  88.  86.]\n",
      " [177.  58.  88.  15.]\n",
      " [178.  27.  88.  69.]\n",
      " [179.  59.  93.  14.]\n",
      " [180.  35.  93.  90.]\n",
      " [181.  37.  97.  32.]\n",
      " [182.  32.  97.  86.]\n",
      " [183.  46.  98.  15.]\n",
      " [184.  29.  98.  88.]\n",
      " [185.  41.  99.  39.]\n",
      " [186.  30.  99.  97.]\n",
      " [187.  54. 101.  24.]\n",
      " [188.  28. 101.  68.]\n",
      " [189.  41. 103.  17.]\n",
      " [190.  36. 103.  85.]\n",
      " [191.  34. 103.  23.]\n",
      " [192.  32. 103.  69.]\n",
      " [193.  33. 113.   8.]\n",
      " [194.  38. 113.  91.]\n",
      " [195.  47. 120.  16.]\n",
      " [196.  35. 120.  79.]\n",
      " [197.  45. 126.  28.]\n",
      " [198.  32. 126.  74.]\n",
      " [199.  32. 137.  18.]\n",
      " [200.  30. 137.  83.]]\n"
     ]
    }
   ],
   "source": [
    "from numpy import genfromtxt\n",
    "\n",
    "cust_data = genfromtxt('shopping-data.csv', delimiter=',', skip_header=1)\n",
    "print(cust_data)"
   ]
  },
  {
   "cell_type": "markdown",
   "id": "0b6a1425",
   "metadata": {},
   "source": [
    "## Q-1) The company wants targetted marketing for some specific customers whose spending score is more than 80.  Find the total number of such customers and display each of their details."
   ]
  },
  {
   "cell_type": "code",
   "execution_count": 63,
   "id": "03e0aa79",
   "metadata": {},
   "outputs": [
    {
     "data": {
      "text/plain": [
       "array([39., 81.,  6., 77., 40., 76.,  6., 94.,  3., 72., 14., 99., 15.,\n",
       "       77., 13., 79., 35., 66., 29., 98., 35., 73.,  5., 73., 14., 82.,\n",
       "       32., 61., 31., 87.,  4., 73.,  4., 92., 14., 81., 17., 73., 26.,\n",
       "       75., 35., 92., 36., 61., 28., 65., 55., 47., 42., 42., 52., 60.,\n",
       "       54., 60., 45., 41., 50., 46., 51., 46., 56., 55., 52., 59., 51.,\n",
       "       59., 50., 48., 59., 47., 55., 42., 49., 56., 47., 54., 53., 48.,\n",
       "       52., 42., 51., 55., 41., 44., 57., 46., 58., 55., 60., 46., 55.,\n",
       "       41., 49., 40., 42., 52., 47., 50., 42., 49., 41., 48., 59., 55.,\n",
       "       56., 42., 50., 46., 43., 48., 52., 54., 42., 46., 48., 50., 43.,\n",
       "       59., 43., 57., 56., 40., 58., 91., 29., 77., 35., 95., 11., 75.,\n",
       "        9., 75., 34., 71.,  5., 88.,  7., 73., 10., 72.,  5., 93., 40.,\n",
       "       87., 12., 97., 36., 74., 22., 90., 17., 88., 20., 76., 16., 89.,\n",
       "        1., 78.,  1., 73., 35., 83.,  5., 93., 26., 75., 20., 95., 27.,\n",
       "       63., 13., 75., 10., 92., 13., 86., 15., 69., 14., 90., 32., 86.,\n",
       "       15., 88., 39., 97., 24., 68., 17., 85., 23., 69.,  8., 91., 16.,\n",
       "       79., 28., 74., 18., 83.])"
      ]
     },
     "execution_count": 63,
     "metadata": {},
     "output_type": "execute_result"
    }
   ],
   "source": [
    "Spnd =cust_data[:, 3] # we are slicing the specific column containing the spending score\n",
    "Spnd"
   ]
  },
  {
   "cell_type": "code",
   "execution_count": 64,
   "id": "b9cb99fe",
   "metadata": {},
   "outputs": [
    {
     "name": "stdout",
     "output_type": "stream",
     "text": [
      "[81. 94. 99. 98. 82. 87. 92. 81. 92. 91. 95. 88. 93. 87. 97. 90. 88. 89.\n",
      " 83. 93. 95. 92. 86. 90. 86. 88. 97. 85. 91. 83.]\n"
     ]
    }
   ],
   "source": [
    "#printing all the score which are more than 80\n",
    "Indx = np.where(Spnd > 80) # We are fetching the index positions of data items where spend score is > 80\n",
    "spndscore_more_than_80 = Spnd[Indx] \n",
    "print(spndscore_more_than_80)"
   ]
  },
  {
   "cell_type": "code",
   "execution_count": 65,
   "id": "348c6370",
   "metadata": {},
   "outputs": [
    {
     "name": "stdout",
     "output_type": "stream",
     "text": [
      "Total number of customers who's spending score is more than 80 :  30\n"
     ]
    }
   ],
   "source": [
    "print(\"Total number of customers who's spending score is more than 80 : \",spndscore_more_than_80.size)"
   ]
  },
  {
   "cell_type": "code",
   "execution_count": 66,
   "id": "40800d9d",
   "metadata": {},
   "outputs": [
    {
     "data": {
      "text/plain": [
       "(array([  1,   7,  11,  19,  25,  29,  33,  35,  41, 123, 127, 135, 141,\n",
       "        143, 145, 149, 151, 155, 161, 163, 167, 173, 175, 179, 181, 183,\n",
       "        185, 189, 193, 199], dtype=int64),)"
      ]
     },
     "execution_count": 66,
     "metadata": {},
     "output_type": "execute_result"
    }
   ],
   "source": [
    "Indx"
   ]
  },
  {
   "cell_type": "code",
   "execution_count": 67,
   "id": "817d395b",
   "metadata": {},
   "outputs": [
    {
     "name": "stdout",
     "output_type": "stream",
     "text": [
      "[[  2.  21.  15.  81.]\n",
      " [  8.  23.  18.  94.]\n",
      " [ 12.  35.  19.  99.]\n",
      " [ 20.  35.  23.  98.]\n",
      " [ 26.  29.  28.  82.]\n",
      " [ 30.  23.  29.  87.]\n",
      " [ 34.  18.  33.  92.]\n",
      " [ 36.  21.  33.  81.]\n",
      " [ 42.  24.  38.  92.]\n",
      " [124.  39.  69.  91.]\n",
      " [128.  40.  71.  95.]\n",
      " [136.  29.  73.  88.]\n",
      " [142.  32.  75.  93.]\n",
      " [144.  32.  76.  87.]\n",
      " [146.  28.  77.  97.]\n",
      " [150.  34.  78.  90.]\n",
      " [152.  39.  78.  88.]\n",
      " [156.  27.  78.  89.]\n",
      " [162.  29.  79.  83.]\n",
      " [164.  31.  81.  93.]\n",
      " [168.  33.  86.  95.]\n",
      " [174.  36.  87.  92.]\n",
      " [176.  30.  88.  86.]\n",
      " [180.  35.  93.  90.]\n",
      " [182.  32.  97.  86.]\n",
      " [184.  29.  98.  88.]\n",
      " [186.  30.  99.  97.]\n",
      " [190.  36. 103.  85.]\n",
      " [194.  38. 113.  91.]\n",
      " [200.  30. 137.  83.]]\n"
     ]
    }
   ],
   "source": [
    "#Displaying data of all the customers who's spending score is more than 80\n",
    "print(cust_data[Indx]) #$ We use that index location array to fetch the other information from the \n",
    "# Original 2D array ! "
   ]
  },
  {
   "cell_type": "markdown",
   "id": "fec0f52b",
   "metadata": {},
   "source": [
    "## Q-2) Customer trend analysis needs age segmented customer data. Fetch the rows corresponding to the age between 20 to 24 (i.e. 20, 21, 22, 23, and 24). "
   ]
  },
  {
   "cell_type": "code",
   "execution_count": 69,
   "id": "87a8aa4f",
   "metadata": {},
   "outputs": [
    {
     "name": "stdout",
     "output_type": "stream",
     "text": [
      "[19. 21. 20. 23. 31. 22. 35. 23. 64. 30. 67. 35. 58. 24. 37. 22. 35. 20.\n",
      " 52. 35. 35. 25. 46. 31. 54. 29. 45. 35. 40. 23. 60. 21. 53. 18. 49. 21.\n",
      " 42. 30. 36. 20. 65. 24. 48. 31. 49. 24. 50. 27. 29. 31. 49. 33. 31. 59.\n",
      " 50. 47. 51. 69. 27. 53. 70. 19. 67. 54. 63. 18. 43. 68. 19. 32. 70. 47.\n",
      " 60. 60. 59. 26. 45. 40. 23. 49. 57. 38. 67. 46. 21. 48. 55. 22. 34. 50.\n",
      " 68. 18. 48. 40. 32. 24. 47. 27. 48. 20. 23. 49. 67. 26. 49. 21. 66. 54.\n",
      " 68. 66. 65. 19. 38. 19. 18. 19. 63. 49. 51. 50. 27. 38. 40. 39. 23. 31.\n",
      " 43. 40. 59. 38. 47. 39. 25. 31. 20. 29. 44. 32. 19. 35. 57. 32. 28. 32.\n",
      " 25. 28. 48. 32. 34. 34. 43. 39. 44. 38. 47. 27. 37. 30. 34. 30. 56. 29.\n",
      " 19. 31. 50. 36. 42. 33. 36. 32. 40. 28. 36. 36. 52. 30. 58. 27. 59. 35.\n",
      " 37. 32. 46. 29. 41. 30. 54. 28. 41. 36. 34. 32. 33. 38. 47. 35. 45. 32.\n",
      " 32. 30.]\n"
     ]
    }
   ],
   "source": [
    "#Printing all ages of customers\n",
    "age = cust_data[:,1] # slicing the age column \n",
    "print(age)"
   ]
  },
  {
   "cell_type": "code",
   "execution_count": 70,
   "id": "25357833",
   "metadata": {},
   "outputs": [
    {
     "name": "stdout",
     "output_type": "stream",
     "text": [
      "[21. 20. 23. 22. 23. 24. 22. 20. 23. 21. 21. 20. 24. 24. 23. 21. 22. 24.\n",
      " 20. 23. 21. 23. 20.]\n"
     ]
    }
   ],
   "source": [
    "#Printing all the ages lies from 20 to 24\n",
    "INDX = np.where((age >= 20) & (age < 25))\n",
    "print(age[INDX])"
   ]
  },
  {
   "cell_type": "code",
   "execution_count": 71,
   "id": "88053674",
   "metadata": {},
   "outputs": [
    {
     "name": "stdout",
     "output_type": "stream",
     "text": [
      "Total number of employees who age lies between 20 to 25 is : 23\n"
     ]
    }
   ],
   "source": [
    "print(\"Total number of employees who age lies between 20 to 25 is :\", age[INDX].size)"
   ]
  },
  {
   "cell_type": "code",
   "execution_count": 72,
   "id": "7de3b5f8",
   "metadata": {},
   "outputs": [
    {
     "data": {
      "text/plain": [
       "(array([  1,   2,   3,   5,   7,  13,  15,  17,  29,  31,  35,  39,  41,\n",
       "         45,  78,  84,  87,  95,  99, 100, 105, 124, 134], dtype=int64),)"
      ]
     },
     "execution_count": 72,
     "metadata": {},
     "output_type": "execute_result"
    }
   ],
   "source": [
    "INDX"
   ]
  },
  {
   "cell_type": "code",
   "execution_count": 73,
   "id": "98c5133f",
   "metadata": {},
   "outputs": [
    {
     "name": "stdout",
     "output_type": "stream",
     "text": [
      "[[  2.  21.  15.  81.]\n",
      " [  3.  20.  16.   6.]\n",
      " [  4.  23.  16.  77.]\n",
      " [  6.  22.  17.  76.]\n",
      " [  8.  23.  18.  94.]\n",
      " [ 14.  24.  20.  77.]\n",
      " [ 16.  22.  20.  79.]\n",
      " [ 18.  20.  21.  66.]\n",
      " [ 30.  23.  29.  87.]\n",
      " [ 32.  21.  30.  73.]\n",
      " [ 36.  21.  33.  81.]\n",
      " [ 40.  20.  37.  75.]\n",
      " [ 42.  24.  38.  92.]\n",
      " [ 46.  24.  39.  65.]\n",
      " [ 79.  23.  54.  52.]\n",
      " [ 85.  21.  54.  57.]\n",
      " [ 88.  22.  57.  55.]\n",
      " [ 96.  24.  60.  52.]\n",
      " [100.  20.  61.  49.]\n",
      " [101.  23.  62.  41.]\n",
      " [106.  21.  62.  42.]\n",
      " [125.  23.  70.  29.]\n",
      " [135.  20.  73.   5.]]\n"
     ]
    }
   ],
   "source": [
    "#Displaying the rows pertaining to only the customer age between 21 and 25\n",
    "print(cust_data[INDX])"
   ]
  },
  {
   "cell_type": "markdown",
   "id": "3680760d",
   "metadata": {},
   "source": [
    "## Q-3) The company wants to know the customer ID of those who have the lowest annual and highest annual incomes so that they can get an idea of the range of their customer incomes."
   ]
  },
  {
   "cell_type": "code",
   "execution_count": 74,
   "id": "e6b2cbf5",
   "metadata": {},
   "outputs": [
    {
     "name": "stdout",
     "output_type": "stream",
     "text": [
      "The lowest annual salary present in dataset is:  15.0\n"
     ]
    }
   ],
   "source": [
    "Sal = cust_data[:,2] # Slicing the salary column \n",
    "print(\"The lowest annual salary present in dataset is: \",Sal.min())"
   ]
  },
  {
   "cell_type": "code",
   "execution_count": 75,
   "id": "6f1e5025",
   "metadata": {},
   "outputs": [
    {
     "name": "stdout",
     "output_type": "stream",
     "text": [
      "(array([0, 1], dtype=int64),)\n"
     ]
    }
   ],
   "source": [
    "#Finding the index position of customer who's salary is 15 k\n",
    "INDEX = np.where(Sal == 15)\n",
    "print(INDEX)"
   ]
  },
  {
   "cell_type": "code",
   "execution_count": 76,
   "id": "dfd538f0",
   "metadata": {},
   "outputs": [
    {
     "name": "stdout",
     "output_type": "stream",
     "text": [
      "Customer ID of customer who has the lowest salary :  [1. 2.]\n"
     ]
    }
   ],
   "source": [
    "#Print customer ID who's annual salary is lowest\n",
    "CustID = cust_data[:,0]\n",
    "print(\"Customer ID of customer who has the lowest salary : \",CustID[INDEX])"
   ]
  },
  {
   "cell_type": "code",
   "execution_count": 77,
   "id": "66db618b",
   "metadata": {},
   "outputs": [
    {
     "name": "stdout",
     "output_type": "stream",
     "text": [
      "The highest annual salary present in dataset is:  137.0\n"
     ]
    }
   ],
   "source": [
    "#Finding the highest salary\n",
    "Sal = cust_data[:,2] \n",
    "print(\"The highest annual salary present in dataset is: \",Sal.max())"
   ]
  },
  {
   "cell_type": "code",
   "execution_count": 78,
   "id": "3e53f676",
   "metadata": {},
   "outputs": [
    {
     "name": "stdout",
     "output_type": "stream",
     "text": [
      "(array([198, 199], dtype=int64),)\n"
     ]
    }
   ],
   "source": [
    "#Finding the index position of customer who's salary is 137K USD \n",
    "INDEX1 = np.where(Sal == 137)\n",
    "print(INDEX1)"
   ]
  },
  {
   "cell_type": "code",
   "execution_count": 79,
   "id": "a9a87991",
   "metadata": {},
   "outputs": [
    {
     "name": "stdout",
     "output_type": "stream",
     "text": [
      "customer ID with highest annual income :  [199. 200.]\n"
     ]
    }
   ],
   "source": [
    "#Print customer ID with highest annual salary\n",
    "CustID = cust_data[:,0]\n",
    "print(\"customer ID with highest annual income : \",CustID[INDEX1])"
   ]
  },
  {
   "cell_type": "code",
   "execution_count": 80,
   "id": "b6d6bb5c",
   "metadata": {},
   "outputs": [
    {
     "name": "stdout",
     "output_type": "stream",
     "text": [
      "The average annual income of all customers :  60.56\n"
     ]
    }
   ],
   "source": [
    "#Finding the average annual salary of customer\n",
    "print(\"The average annual income of all customers : \",np.mean(cust_data[:,2]))"
   ]
  },
  {
   "cell_type": "markdown",
   "id": "de016b8a",
   "metadata": {},
   "source": [
    "## Q-4) The marketing team wants the details of the customers whose spending score is more than 75 with a minimum annual salary of at least 35K and age is less than 45 years. How many such customers are there in the given data? These identified customers would be eligible for a discount."
   ]
  },
  {
   "cell_type": "code",
   "execution_count": 81,
   "id": "8c19dea9",
   "metadata": {},
   "outputs": [
    {
     "name": "stdout",
     "output_type": "stream",
     "text": [
      "Index position of customers as per the given condition: \n",
      " (array([ 41, 123, 125, 127, 135, 141, 143, 145, 149, 151, 153, 155, 157,\n",
      "       161, 163, 167, 173, 175, 179, 181, 183, 185, 189, 193, 195, 199],\n",
      "      dtype=int64),)\n"
     ]
    }
   ],
   "source": [
    "IndX = np.where((Spnd > 75) & (age < 45) & (Sal > 35)) \n",
    "# Each of the above are individual arrays i.e Spnd, age and Sal which is sliced from original array ! \n",
    "print(\"Index position of customers as per the given condition: \\n\", IndX)"
   ]
  },
  {
   "cell_type": "code",
   "execution_count": 82,
   "id": "73325c1a",
   "metadata": {},
   "outputs": [
    {
     "name": "stdout",
     "output_type": "stream",
     "text": [
      "Total number of customers who are eligible for discount:  26\n"
     ]
    }
   ],
   "source": [
    "print(\"Total number of customers who are eligible for discount: \", age[IndX].size)"
   ]
  },
  {
   "cell_type": "code",
   "execution_count": 83,
   "id": "9aea587d",
   "metadata": {},
   "outputs": [
    {
     "name": "stdout",
     "output_type": "stream",
     "text": [
      "[[ 42.  24.  38.  92.]\n",
      " [124.  39.  69.  91.]\n",
      " [126.  31.  70.  77.]\n",
      " [128.  40.  71.  95.]\n",
      " [136.  29.  73.  88.]\n",
      " [142.  32.  75.  93.]\n",
      " [144.  32.  76.  87.]\n",
      " [146.  28.  77.  97.]\n",
      " [150.  34.  78.  90.]\n",
      " [152.  39.  78.  88.]\n",
      " [154.  38.  78.  76.]\n",
      " [156.  27.  78.  89.]\n",
      " [158.  30.  78.  78.]\n",
      " [162.  29.  79.  83.]\n",
      " [164.  31.  81.  93.]\n",
      " [168.  33.  86.  95.]\n",
      " [174.  36.  87.  92.]\n",
      " [176.  30.  88.  86.]\n",
      " [180.  35.  93.  90.]\n",
      " [182.  32.  97.  86.]\n",
      " [184.  29.  98.  88.]\n",
      " [186.  30.  99.  97.]\n",
      " [190.  36. 103.  85.]\n",
      " [194.  38. 113.  91.]\n",
      " [196.  35. 120.  79.]\n",
      " [200.  30. 137.  83.]]\n"
     ]
    }
   ],
   "source": [
    "#Displaying records of all such customers who are eligible for discount\n",
    "print(cust_data[IndX])"
   ]
  },
  {
   "cell_type": "markdown",
   "id": "f5a900e6",
   "metadata": {},
   "source": [
    "## Q-5) During the Christmas season, the company wants to offer random discount coupons between 10% to 50% to all the customers in the database. A new column about the discount details needs to be maintained along with the original data."
   ]
  },
  {
   "cell_type": "code",
   "execution_count": 87,
   "id": "49be07e7",
   "metadata": {},
   "outputs": [
    {
     "data": {
      "text/plain": [
       "array([[48],\n",
       "       [10],\n",
       "       [39],\n",
       "       [43],\n",
       "       [15],\n",
       "       [37],\n",
       "       [14],\n",
       "       [15],\n",
       "       [42],\n",
       "       [30],\n",
       "       [13],\n",
       "       [37],\n",
       "       [47],\n",
       "       [44],\n",
       "       [27],\n",
       "       [29],\n",
       "       [20],\n",
       "       [24],\n",
       "       [15],\n",
       "       [42],\n",
       "       [27],\n",
       "       [14],\n",
       "       [37],\n",
       "       [22],\n",
       "       [13],\n",
       "       [42],\n",
       "       [33],\n",
       "       [19],\n",
       "       [30],\n",
       "       [17],\n",
       "       [24],\n",
       "       [19],\n",
       "       [47],\n",
       "       [31],\n",
       "       [46],\n",
       "       [36],\n",
       "       [21],\n",
       "       [30],\n",
       "       [30],\n",
       "       [29],\n",
       "       [23],\n",
       "       [39],\n",
       "       [41],\n",
       "       [22],\n",
       "       [24],\n",
       "       [32],\n",
       "       [20],\n",
       "       [20],\n",
       "       [48],\n",
       "       [12],\n",
       "       [23],\n",
       "       [29],\n",
       "       [30],\n",
       "       [10],\n",
       "       [47],\n",
       "       [39],\n",
       "       [16],\n",
       "       [15],\n",
       "       [24],\n",
       "       [16],\n",
       "       [40],\n",
       "       [42],\n",
       "       [15],\n",
       "       [46],\n",
       "       [26],\n",
       "       [12],\n",
       "       [10],\n",
       "       [27],\n",
       "       [42],\n",
       "       [16],\n",
       "       [32],\n",
       "       [32],\n",
       "       [45],\n",
       "       [16],\n",
       "       [43],\n",
       "       [10],\n",
       "       [40],\n",
       "       [18],\n",
       "       [24],\n",
       "       [49],\n",
       "       [19],\n",
       "       [47],\n",
       "       [19],\n",
       "       [11],\n",
       "       [48],\n",
       "       [39],\n",
       "       [47],\n",
       "       [30],\n",
       "       [31],\n",
       "       [19],\n",
       "       [40],\n",
       "       [30],\n",
       "       [32],\n",
       "       [39],\n",
       "       [23],\n",
       "       [39],\n",
       "       [38],\n",
       "       [47],\n",
       "       [11],\n",
       "       [44],\n",
       "       [43],\n",
       "       [47],\n",
       "       [24],\n",
       "       [41],\n",
       "       [27],\n",
       "       [11],\n",
       "       [42],\n",
       "       [13],\n",
       "       [17],\n",
       "       [26],\n",
       "       [31],\n",
       "       [18],\n",
       "       [37],\n",
       "       [30],\n",
       "       [32],\n",
       "       [12],\n",
       "       [15],\n",
       "       [45],\n",
       "       [43],\n",
       "       [21],\n",
       "       [23],\n",
       "       [44],\n",
       "       [19],\n",
       "       [45],\n",
       "       [26],\n",
       "       [17],\n",
       "       [18],\n",
       "       [20],\n",
       "       [11],\n",
       "       [19],\n",
       "       [44],\n",
       "       [29],\n",
       "       [26],\n",
       "       [48],\n",
       "       [49],\n",
       "       [32],\n",
       "       [41],\n",
       "       [28],\n",
       "       [30],\n",
       "       [36],\n",
       "       [26],\n",
       "       [22],\n",
       "       [19],\n",
       "       [47],\n",
       "       [43],\n",
       "       [36],\n",
       "       [21],\n",
       "       [17],\n",
       "       [13],\n",
       "       [32],\n",
       "       [12],\n",
       "       [49],\n",
       "       [15],\n",
       "       [16],\n",
       "       [33],\n",
       "       [28],\n",
       "       [31],\n",
       "       [34],\n",
       "       [49],\n",
       "       [34],\n",
       "       [41],\n",
       "       [27],\n",
       "       [16],\n",
       "       [43],\n",
       "       [11],\n",
       "       [35],\n",
       "       [41],\n",
       "       [12],\n",
       "       [29],\n",
       "       [10],\n",
       "       [43],\n",
       "       [34],\n",
       "       [36],\n",
       "       [33],\n",
       "       [22],\n",
       "       [34],\n",
       "       [43],\n",
       "       [48],\n",
       "       [47],\n",
       "       [18],\n",
       "       [18],\n",
       "       [23],\n",
       "       [14],\n",
       "       [22],\n",
       "       [24],\n",
       "       [40],\n",
       "       [39],\n",
       "       [28],\n",
       "       [35],\n",
       "       [28],\n",
       "       [28],\n",
       "       [43],\n",
       "       [18],\n",
       "       [30],\n",
       "       [23],\n",
       "       [12],\n",
       "       [30],\n",
       "       [34],\n",
       "       [27],\n",
       "       [30]])"
      ]
     },
     "execution_count": 87,
     "metadata": {},
     "output_type": "execute_result"
    }
   ],
   "source": [
    "#Generating random discount between 10 to 50 percent for 200 customers in the data \n",
    "disc = np.random.randint(10,50, size=(200,1))\n",
    "disc\n"
   ]
  },
  {
   "cell_type": "code",
   "execution_count": 85,
   "id": "8076197b",
   "metadata": {},
   "outputs": [
    {
     "name": "stdout",
     "output_type": "stream",
     "text": [
      "[[  1.  19.  15.  39.  41.]\n",
      " [  2.  21.  15.  81.  40.]\n",
      " [  3.  20.  16.   6.  16.]\n",
      " [  4.  23.  16.  77.  41.]\n",
      " [  5.  31.  17.  40.  14.]\n",
      " [  6.  22.  17.  76.  29.]\n",
      " [  7.  35.  18.   6.  39.]\n",
      " [  8.  23.  18.  94.  24.]\n",
      " [  9.  64.  19.   3.  15.]\n",
      " [ 10.  30.  19.  72.  18.]\n",
      " [ 11.  67.  19.  14.  20.]\n",
      " [ 12.  35.  19.  99.  47.]\n",
      " [ 13.  58.  20.  15.  12.]\n",
      " [ 14.  24.  20.  77.  35.]\n",
      " [ 15.  37.  20.  13.  46.]\n",
      " [ 16.  22.  20.  79.  28.]\n",
      " [ 17.  35.  21.  35.  46.]\n",
      " [ 18.  20.  21.  66.  32.]\n",
      " [ 19.  52.  23.  29.  29.]\n",
      " [ 20.  35.  23.  98.  47.]\n",
      " [ 21.  35.  24.  35.  39.]\n",
      " [ 22.  25.  24.  73.  17.]\n",
      " [ 23.  46.  25.   5.  11.]\n",
      " [ 24.  31.  25.  73.  23.]\n",
      " [ 25.  54.  28.  14.  41.]\n",
      " [ 26.  29.  28.  82.  47.]\n",
      " [ 27.  45.  28.  32.  16.]\n",
      " [ 28.  35.  28.  61.  39.]\n",
      " [ 29.  40.  29.  31.  10.]\n",
      " [ 30.  23.  29.  87.  44.]\n",
      " [ 31.  60.  30.   4.  34.]\n",
      " [ 32.  21.  30.  73.  48.]\n",
      " [ 33.  53.  33.   4.  28.]\n",
      " [ 34.  18.  33.  92.  30.]\n",
      " [ 35.  49.  33.  14.  48.]\n",
      " [ 36.  21.  33.  81.  10.]\n",
      " [ 37.  42.  34.  17.  28.]\n",
      " [ 38.  30.  34.  73.  42.]\n",
      " [ 39.  36.  37.  26.  32.]\n",
      " [ 40.  20.  37.  75.  18.]\n",
      " [ 41.  65.  38.  35.  44.]\n",
      " [ 42.  24.  38.  92.  11.]\n",
      " [ 43.  48.  39.  36.  25.]\n",
      " [ 44.  31.  39.  61.  49.]\n",
      " [ 45.  49.  39.  28.  35.]\n",
      " [ 46.  24.  39.  65.  34.]\n",
      " [ 47.  50.  40.  55.  21.]\n",
      " [ 48.  27.  40.  47.  44.]\n",
      " [ 49.  29.  40.  42.  48.]\n",
      " [ 50.  31.  40.  42.  33.]\n",
      " [ 51.  49.  42.  52.  40.]\n",
      " [ 52.  33.  42.  60.  17.]\n",
      " [ 53.  31.  43.  54.  19.]\n",
      " [ 54.  59.  43.  60.  11.]\n",
      " [ 55.  50.  43.  45.  46.]\n",
      " [ 56.  47.  43.  41.  45.]\n",
      " [ 57.  51.  44.  50.  43.]\n",
      " [ 58.  69.  44.  46.  47.]\n",
      " [ 59.  27.  46.  51.  43.]\n",
      " [ 60.  53.  46.  46.  49.]\n",
      " [ 61.  70.  46.  56.  33.]\n",
      " [ 62.  19.  46.  55.  31.]\n",
      " [ 63.  67.  47.  52.  32.]\n",
      " [ 64.  54.  47.  59.  33.]\n",
      " [ 65.  63.  48.  51.  28.]\n",
      " [ 66.  18.  48.  59.  32.]\n",
      " [ 67.  43.  48.  50.  40.]\n",
      " [ 68.  68.  48.  48.  49.]\n",
      " [ 69.  19.  48.  59.  38.]\n",
      " [ 70.  32.  48.  47.  42.]\n",
      " [ 71.  70.  49.  55.  15.]\n",
      " [ 72.  47.  49.  42.  17.]\n",
      " [ 73.  60.  50.  49.  19.]\n",
      " [ 74.  60.  50.  56.  28.]\n",
      " [ 75.  59.  54.  47.  44.]\n",
      " [ 76.  26.  54.  54.  48.]\n",
      " [ 77.  45.  54.  53.  44.]\n",
      " [ 78.  40.  54.  48.  46.]\n",
      " [ 79.  23.  54.  52.  27.]\n",
      " [ 80.  49.  54.  42.  22.]\n",
      " [ 81.  57.  54.  51.  28.]\n",
      " [ 82.  38.  54.  55.  14.]\n",
      " [ 83.  67.  54.  41.  32.]\n",
      " [ 84.  46.  54.  44.  48.]\n",
      " [ 85.  21.  54.  57.  36.]\n",
      " [ 86.  48.  54.  46.  44.]\n",
      " [ 87.  55.  57.  58.  24.]\n",
      " [ 88.  22.  57.  55.  20.]\n",
      " [ 89.  34.  58.  60.  24.]\n",
      " [ 90.  50.  58.  46.  39.]\n",
      " [ 91.  68.  59.  55.  24.]\n",
      " [ 92.  18.  59.  41.  23.]\n",
      " [ 93.  48.  60.  49.  47.]\n",
      " [ 94.  40.  60.  40.  19.]\n",
      " [ 95.  32.  60.  42.  37.]\n",
      " [ 96.  24.  60.  52.  10.]\n",
      " [ 97.  47.  60.  47.  16.]\n",
      " [ 98.  27.  60.  50.  42.]\n",
      " [ 99.  48.  61.  42.  34.]\n",
      " [100.  20.  61.  49.  34.]\n",
      " [101.  23.  62.  41.  30.]\n",
      " [102.  49.  62.  48.  17.]\n",
      " [103.  67.  62.  59.  43.]\n",
      " [104.  26.  62.  55.  23.]\n",
      " [105.  49.  62.  56.  41.]\n",
      " [106.  21.  62.  42.  27.]\n",
      " [107.  66.  63.  50.  21.]\n",
      " [108.  54.  63.  46.  14.]\n",
      " [109.  68.  63.  43.  25.]\n",
      " [110.  66.  63.  48.  28.]\n",
      " [111.  65.  63.  52.  47.]\n",
      " [112.  19.  63.  54.  40.]\n",
      " [113.  38.  64.  42.  11.]\n",
      " [114.  19.  64.  46.  14.]\n",
      " [115.  18.  65.  48.  36.]\n",
      " [116.  19.  65.  50.  18.]\n",
      " [117.  63.  65.  43.  41.]\n",
      " [118.  49.  65.  59.  40.]\n",
      " [119.  51.  67.  43.  42.]\n",
      " [120.  50.  67.  57.  19.]\n",
      " [121.  27.  67.  56.  25.]\n",
      " [122.  38.  67.  40.  40.]\n",
      " [123.  40.  69.  58.  23.]\n",
      " [124.  39.  69.  91.  24.]\n",
      " [125.  23.  70.  29.  42.]\n",
      " [126.  31.  70.  77.  39.]\n",
      " [127.  43.  71.  35.  26.]\n",
      " [128.  40.  71.  95.  35.]\n",
      " [129.  59.  71.  11.  34.]\n",
      " [130.  38.  71.  75.  19.]\n",
      " [131.  47.  71.   9.  17.]\n",
      " [132.  39.  71.  75.  16.]\n",
      " [133.  25.  72.  34.  23.]\n",
      " [134.  31.  72.  71.  47.]\n",
      " [135.  20.  73.   5.  37.]\n",
      " [136.  29.  73.  88.  33.]\n",
      " [137.  44.  73.   7.  22.]\n",
      " [138.  32.  73.  73.  15.]\n",
      " [139.  19.  74.  10.  19.]\n",
      " [140.  35.  74.  72.  19.]\n",
      " [141.  57.  75.   5.  43.]\n",
      " [142.  32.  75.  93.  20.]\n",
      " [143.  28.  76.  40.  48.]\n",
      " [144.  32.  76.  87.  26.]\n",
      " [145.  25.  77.  12.  36.]\n",
      " [146.  28.  77.  97.  20.]\n",
      " [147.  48.  77.  36.  21.]\n",
      " [148.  32.  77.  74.  33.]\n",
      " [149.  34.  78.  22.  44.]\n",
      " [150.  34.  78.  90.  13.]\n",
      " [151.  43.  78.  17.  48.]\n",
      " [152.  39.  78.  88.  48.]\n",
      " [153.  44.  78.  20.  30.]\n",
      " [154.  38.  78.  76.  20.]\n",
      " [155.  47.  78.  16.  11.]\n",
      " [156.  27.  78.  89.  44.]\n",
      " [157.  37.  78.   1.  12.]\n",
      " [158.  30.  78.  78.  11.]\n",
      " [159.  34.  78.   1.  15.]\n",
      " [160.  30.  78.  73.  36.]\n",
      " [161.  56.  79.  35.  37.]\n",
      " [162.  29.  79.  83.  35.]\n",
      " [163.  19.  81.   5.  10.]\n",
      " [164.  31.  81.  93.  49.]\n",
      " [165.  50.  85.  26.  39.]\n",
      " [166.  36.  85.  75.  22.]\n",
      " [167.  42.  86.  20.  32.]\n",
      " [168.  33.  86.  95.  48.]\n",
      " [169.  36.  87.  27.  10.]\n",
      " [170.  32.  87.  63.  24.]\n",
      " [171.  40.  87.  13.  24.]\n",
      " [172.  28.  87.  75.  32.]\n",
      " [173.  36.  87.  10.  22.]\n",
      " [174.  36.  87.  92.  18.]\n",
      " [175.  52.  88.  13.  31.]\n",
      " [176.  30.  88.  86.  23.]\n",
      " [177.  58.  88.  15.  29.]\n",
      " [178.  27.  88.  69.  32.]\n",
      " [179.  59.  93.  14.  40.]\n",
      " [180.  35.  93.  90.  25.]\n",
      " [181.  37.  97.  32.  11.]\n",
      " [182.  32.  97.  86.  13.]\n",
      " [183.  46.  98.  15.  29.]\n",
      " [184.  29.  98.  88.  42.]\n",
      " [185.  41.  99.  39.  29.]\n",
      " [186.  30.  99.  97.  46.]\n",
      " [187.  54. 101.  24.  31.]\n",
      " [188.  28. 101.  68.  43.]\n",
      " [189.  41. 103.  17.  46.]\n",
      " [190.  36. 103.  85.  37.]\n",
      " [191.  34. 103.  23.  26.]\n",
      " [192.  32. 103.  69.  15.]\n",
      " [193.  33. 113.   8.  25.]\n",
      " [194.  38. 113.  91.  26.]\n",
      " [195.  47. 120.  16.  18.]\n",
      " [196.  35. 120.  79.  23.]\n",
      " [197.  45. 126.  28.  23.]\n",
      " [198.  32. 126.  74.  35.]\n",
      " [199.  32. 137.  18.  13.]\n",
      " [200.  30. 137.  83.  24.]]\n"
     ]
    }
   ],
   "source": [
    "#Adding the discount data column in existing records of customers\n",
    "\n",
    "cust_data1 = np.concatenate((cust_data, disc), axis=1)\n",
    "print(cust_data1)\n",
    "#You can also write the code as \"np.hstack((cust_data, disc))\"\""
   ]
  },
  {
   "cell_type": "code",
   "execution_count": 189,
   "id": "87ce241b",
   "metadata": {
    "scrolled": false
   },
   "outputs": [
    {
     "data": {
      "text/plain": [
       "array([[  1.,  19.,  15.,  39.,  15.],\n",
       "       [  2.,  21.,  15.,  81.,  48.],\n",
       "       [  3.,  20.,  16.,   6.,  33.],\n",
       "       [  4.,  23.,  16.,  77.,  21.],\n",
       "       [  5.,  31.,  17.,  40.,  15.],\n",
       "       [  6.,  22.,  17.,  76.,  10.],\n",
       "       [  7.,  35.,  18.,   6.,  11.],\n",
       "       [  8.,  23.,  18.,  94.,  20.],\n",
       "       [  9.,  64.,  19.,   3.,  37.],\n",
       "       [ 10.,  30.,  19.,  72.,  26.],\n",
       "       [ 11.,  67.,  19.,  14.,  40.],\n",
       "       [ 12.,  35.,  19.,  99.,  42.],\n",
       "       [ 13.,  58.,  20.,  15.,  40.],\n",
       "       [ 14.,  24.,  20.,  77.,  42.],\n",
       "       [ 15.,  37.,  20.,  13.,  45.],\n",
       "       [ 16.,  22.,  20.,  79.,  15.],\n",
       "       [ 17.,  35.,  21.,  35.,  37.],\n",
       "       [ 18.,  20.,  21.,  66.,  25.],\n",
       "       [ 19.,  52.,  23.,  29.,  25.],\n",
       "       [ 20.,  35.,  23.,  98.,  43.],\n",
       "       [ 21.,  35.,  24.,  35.,  39.],\n",
       "       [ 22.,  25.,  24.,  73.,  15.],\n",
       "       [ 23.,  46.,  25.,   5.,  42.],\n",
       "       [ 24.,  31.,  25.,  73.,  48.],\n",
       "       [ 25.,  54.,  28.,  14.,  40.],\n",
       "       [ 26.,  29.,  28.,  82.,  10.],\n",
       "       [ 27.,  45.,  28.,  32.,  45.],\n",
       "       [ 28.,  35.,  28.,  61.,  31.],\n",
       "       [ 29.,  40.,  29.,  31.,  18.],\n",
       "       [ 30.,  23.,  29.,  87.,  41.],\n",
       "       [ 31.,  60.,  30.,   4.,  22.],\n",
       "       [ 32.,  21.,  30.,  73.,  10.],\n",
       "       [ 33.,  53.,  33.,   4.,  25.],\n",
       "       [ 34.,  18.,  33.,  92.,  14.],\n",
       "       [ 35.,  49.,  33.,  14.,  19.],\n",
       "       [ 36.,  21.,  33.,  81.,  14.],\n",
       "       [ 37.,  42.,  34.,  17.,  34.],\n",
       "       [ 38.,  30.,  34.,  73.,  14.],\n",
       "       [ 39.,  36.,  37.,  26.,  49.],\n",
       "       [ 40.,  20.,  37.,  75.,  24.],\n",
       "       [ 41.,  65.,  38.,  35.,  46.],\n",
       "       [ 42.,  24.,  38.,  92.,  49.],\n",
       "       [ 43.,  48.,  39.,  36.,  13.],\n",
       "       [ 44.,  31.,  39.,  61.,  27.],\n",
       "       [ 45.,  49.,  39.,  28.,  10.],\n",
       "       [ 46.,  24.,  39.,  65.,  19.],\n",
       "       [ 47.,  50.,  40.,  55.,  43.],\n",
       "       [ 48.,  27.,  40.,  47.,  13.],\n",
       "       [ 49.,  29.,  40.,  42.,  30.],\n",
       "       [ 50.,  31.,  40.,  42.,  34.],\n",
       "       [ 51.,  49.,  42.,  52.,  36.],\n",
       "       [ 52.,  33.,  42.,  60.,  39.],\n",
       "       [ 53.,  31.,  43.,  54.,  49.],\n",
       "       [ 54.,  59.,  43.,  60.,  42.],\n",
       "       [ 55.,  50.,  43.,  45.,  24.],\n",
       "       [ 56.,  47.,  43.,  41.,  43.],\n",
       "       [ 57.,  51.,  44.,  50.,  43.],\n",
       "       [ 58.,  69.,  44.,  46.,  32.],\n",
       "       [ 59.,  27.,  46.,  51.,  10.],\n",
       "       [ 60.,  53.,  46.,  46.,  28.],\n",
       "       [ 61.,  70.,  46.,  56.,  34.],\n",
       "       [ 62.,  19.,  46.,  55.,  41.],\n",
       "       [ 63.,  67.,  47.,  52.,  42.],\n",
       "       [ 64.,  54.,  47.,  59.,  35.],\n",
       "       [ 65.,  63.,  48.,  51.,  23.],\n",
       "       [ 66.,  18.,  48.,  59.,  34.],\n",
       "       [ 67.,  43.,  48.,  50.,  19.],\n",
       "       [ 68.,  68.,  48.,  48.,  10.],\n",
       "       [ 69.,  19.,  48.,  59.,  14.],\n",
       "       [ 70.,  32.,  48.,  47.,  36.],\n",
       "       [ 71.,  70.,  49.,  55.,  49.],\n",
       "       [ 72.,  47.,  49.,  42.,  42.],\n",
       "       [ 73.,  60.,  50.,  49.,  34.],\n",
       "       [ 74.,  60.,  50.,  56.,  49.],\n",
       "       [ 75.,  59.,  54.,  47.,  47.],\n",
       "       [ 76.,  26.,  58.,  54.,  37.],\n",
       "       [ 77.,  45.,  54.,  53.,  13.],\n",
       "       [ 78.,  40.,  54.,  48.,  24.],\n",
       "       [ 79.,  23.,  54.,  52.,  23.],\n",
       "       [ 80.,  49.,  54.,  42.,  15.],\n",
       "       [ 81.,  57.,  54.,  51.,  22.],\n",
       "       [ 82.,  38.,  54.,  55.,  48.],\n",
       "       [ 83.,  67.,  54.,  41.,  22.],\n",
       "       [ 84.,  46.,  54.,  44.,  34.],\n",
       "       [ 85.,  21.,  54.,  57.,  20.],\n",
       "       [ 86.,  48.,  54.,  46.,  48.],\n",
       "       [ 87.,  55.,  57.,  58.,  28.],\n",
       "       [ 88.,  22.,  57.,  55.,  18.],\n",
       "       [ 89.,  34.,  58.,  60.,  43.],\n",
       "       [ 90.,  50.,  58.,  46.,  45.],\n",
       "       [ 91.,  68.,  59.,  55.,  11.],\n",
       "       [ 92.,  18.,  59.,  41.,  13.],\n",
       "       [ 93.,  48.,  60.,  49.,  36.],\n",
       "       [ 94.,  40.,  60.,  40.,  11.],\n",
       "       [ 95.,  32.,  60.,  42.,  39.],\n",
       "       [ 96.,  24.,  60.,  52.,  32.],\n",
       "       [ 97.,  47.,  60.,  47.,  13.],\n",
       "       [ 98.,  27.,  60.,  50.,  20.],\n",
       "       [ 99.,  48.,  61.,  42.,  16.],\n",
       "       [100.,  20.,  61.,  49.,  43.],\n",
       "       [101.,  23.,  62.,  41.,  41.],\n",
       "       [102.,  49.,  62.,  48.,  49.],\n",
       "       [103.,  67.,  62.,  59.,  14.],\n",
       "       [104.,  26.,  58.,  55.,  36.],\n",
       "       [105.,  49.,  62.,  56.,  13.],\n",
       "       [106.,  21.,  62.,  42.,  38.],\n",
       "       [107.,  66.,  63.,  50.,  21.],\n",
       "       [108.,  54.,  63.,  46.,  40.],\n",
       "       [109.,  68.,  63.,  43.,  16.],\n",
       "       [110.,  66.,  63.,  48.,  37.],\n",
       "       [111.,  65.,  63.,  52.,  31.],\n",
       "       [112.,  19.,  63.,  54.,  12.],\n",
       "       [113.,  38.,  64.,  42.,  49.],\n",
       "       [114.,  19.,  64.,  46.,  16.],\n",
       "       [115.,  18.,  65.,  48.,  13.],\n",
       "       [116.,  19.,  65.,  50.,  13.],\n",
       "       [117.,  63.,  65.,  43.,  23.],\n",
       "       [118.,  49.,  65.,  59.,  48.],\n",
       "       [119.,  51.,  67.,  43.,  35.],\n",
       "       [120.,  50.,  67.,  57.,  26.],\n",
       "       [121.,  27.,  67.,  56.,  42.],\n",
       "       [122.,  38.,  67.,  40.,  48.],\n",
       "       [123.,  40.,  69.,  58.,  45.],\n",
       "       [124.,  39.,  69.,  91.,  15.],\n",
       "       [125.,  23.,  70.,  29.,  49.],\n",
       "       [126.,  31.,  70.,  77.,  37.],\n",
       "       [127.,  43.,  71.,  35.,  35.],\n",
       "       [128.,  40.,  71.,  95.,  35.],\n",
       "       [129.,  59.,  71.,  11.,  41.],\n",
       "       [130.,  38.,  71.,  75.,  46.],\n",
       "       [131.,  47.,  71.,   9.,  23.],\n",
       "       [132.,  39.,  71.,  75.,  23.],\n",
       "       [133.,  25.,  72.,  34.,  12.],\n",
       "       [134.,  31.,  72.,  71.,  23.],\n",
       "       [135.,  20.,  73.,   5.,  15.],\n",
       "       [136.,  29.,  73.,  88.,  37.],\n",
       "       [137.,  44.,  73.,   7.,  28.],\n",
       "       [138.,  32.,  73.,  73.,  26.],\n",
       "       [139.,  19.,  74.,  10.,  29.],\n",
       "       [140.,  35.,  74.,  72.,  11.],\n",
       "       [141.,  57.,  75.,   5.,  44.],\n",
       "       [142.,  32.,  75.,  93.,  43.],\n",
       "       [143.,  28.,  76.,  40.,  10.],\n",
       "       [144.,  32.,  76.,  87.,  33.],\n",
       "       [145.,  25.,  77.,  12.,  34.],\n",
       "       [146.,  28.,  77.,  97.,  40.],\n",
       "       [147.,  48.,  77.,  36.,  42.],\n",
       "       [148.,  32.,  77.,  74.,  17.],\n",
       "       [149.,  34.,  78.,  22.,  46.],\n",
       "       [150.,  34.,  78.,  90.,  34.],\n",
       "       [151.,  43.,  78.,  17.,  44.],\n",
       "       [152.,  39.,  78.,  88.,  44.],\n",
       "       [153.,  44.,  78.,  20.,  45.],\n",
       "       [154.,  38.,  78.,  76.,  18.],\n",
       "       [155.,  47.,  78.,  16.,  12.],\n",
       "       [156.,  27.,  78.,  89.,  17.],\n",
       "       [157.,  37.,  78.,   1.,  27.],\n",
       "       [158.,  30.,  78.,  78.,  32.],\n",
       "       [159.,  34.,  78.,   1.,  21.],\n",
       "       [160.,  30.,  78.,  73.,  46.],\n",
       "       [161.,  56.,  79.,  35.,  15.],\n",
       "       [162.,  29.,  79.,  83.,  36.],\n",
       "       [163.,  19.,  81.,   5.,  38.],\n",
       "       [164.,  31.,  81.,  93.,  45.],\n",
       "       [165.,  50.,  85.,  26.,  12.],\n",
       "       [166.,  36.,  85.,  75.,  34.],\n",
       "       [167.,  42.,  86.,  20.,  47.],\n",
       "       [168.,  33.,  86.,  95.,  47.],\n",
       "       [169.,  36.,  87.,  27.,  23.],\n",
       "       [170.,  32.,  87.,  63.,  41.],\n",
       "       [171.,  40.,  87.,  13.,  30.],\n",
       "       [172.,  28.,  87.,  75.,  18.],\n",
       "       [173.,  36.,  87.,  10.,  46.],\n",
       "       [174.,  36.,  87.,  92.,  36.],\n",
       "       [175.,  52.,  88.,  13.,  42.],\n",
       "       [176.,  30.,  88.,  86.,  44.],\n",
       "       [177.,  58.,  88.,  15.,  13.],\n",
       "       [178.,  27.,  88.,  69.,  28.],\n",
       "       [179.,  59.,  93.,  14.,  22.],\n",
       "       [180.,  35.,  93.,  90.,  27.],\n",
       "       [181.,  37.,  97.,  32.,  23.],\n",
       "       [182.,  32.,  97.,  86.,  33.],\n",
       "       [183.,  46.,  98.,  15.,  45.],\n",
       "       [184.,  29.,  98.,  88.,  18.],\n",
       "       [185.,  41.,  99.,  39.,  18.],\n",
       "       [186.,  30.,  99.,  97.,  40.],\n",
       "       [187.,  54., 101.,  24.,  47.],\n",
       "       [188.,  28., 101.,  68.,  11.],\n",
       "       [189.,  41., 103.,  17.,  38.],\n",
       "       [190.,  36., 103.,  85.,  17.],\n",
       "       [191.,  34., 103.,  23.,  41.],\n",
       "       [192.,  32., 103.,  69.,  26.],\n",
       "       [193.,  33., 113.,   8.,  24.],\n",
       "       [194.,  38., 113.,  91.,  29.],\n",
       "       [195.,  47., 120.,  16.,  39.],\n",
       "       [196.,  35., 120.,  79.,  33.],\n",
       "       [197.,  45., 126.,  28.,  11.],\n",
       "       [198.,  32., 126.,  74.,  31.],\n",
       "       [199.,  32., 137.,  18.,  14.],\n",
       "       [200.,  30., 137.,  83.,  46.]])"
      ]
     },
     "execution_count": 189,
     "metadata": {},
     "output_type": "execute_result"
    }
   ],
   "source": []
  },
  {
   "cell_type": "markdown",
   "id": "e0dcae7e",
   "metadata": {},
   "source": [
    "## Q-6) Identify those customers who get more than 45% discount."
   ]
  },
  {
   "cell_type": "code",
   "execution_count": 89,
   "id": "d1bc2a69",
   "metadata": {},
   "outputs": [
    {
     "name": "stdout",
     "output_type": "stream",
     "text": [
      "(array([ 11,  14,  16,  19,  25,  31,  34,  43,  48,  54,  57,  59,  67,\n",
      "        75,  77,  83,  92, 110, 133, 142, 150, 151, 163, 167, 185, 188],\n",
      "      dtype=int64),)\n"
     ]
    }
   ],
   "source": [
    "discount = cust_data1[:,4] # Slicing the discount column \n",
    "INDEX2 = np.where(discount > 45) # Identifying the index locations satisfying the condition \n",
    "print(INDEX2)"
   ]
  },
  {
   "cell_type": "code",
   "execution_count": 90,
   "id": "29469f33",
   "metadata": {},
   "outputs": [
    {
     "data": {
      "text/plain": [
       "array([[ 12.,  35.,  19.,  99.,  47.],\n",
       "       [ 15.,  37.,  20.,  13.,  46.],\n",
       "       [ 17.,  35.,  21.,  35.,  46.],\n",
       "       [ 20.,  35.,  23.,  98.,  47.],\n",
       "       [ 26.,  29.,  28.,  82.,  47.],\n",
       "       [ 32.,  21.,  30.,  73.,  48.],\n",
       "       [ 35.,  49.,  33.,  14.,  48.],\n",
       "       [ 44.,  31.,  39.,  61.,  49.],\n",
       "       [ 49.,  29.,  40.,  42.,  48.],\n",
       "       [ 55.,  50.,  43.,  45.,  46.],\n",
       "       [ 58.,  69.,  44.,  46.,  47.],\n",
       "       [ 60.,  53.,  46.,  46.,  49.],\n",
       "       [ 68.,  68.,  48.,  48.,  49.],\n",
       "       [ 76.,  26.,  54.,  54.,  48.],\n",
       "       [ 78.,  40.,  54.,  48.,  46.],\n",
       "       [ 84.,  46.,  54.,  44.,  48.],\n",
       "       [ 93.,  48.,  60.,  49.,  47.],\n",
       "       [111.,  65.,  63.,  52.,  47.],\n",
       "       [134.,  31.,  72.,  71.,  47.],\n",
       "       [143.,  28.,  76.,  40.,  48.],\n",
       "       [151.,  43.,  78.,  17.,  48.],\n",
       "       [152.,  39.,  78.,  88.,  48.],\n",
       "       [164.,  31.,  81.,  93.,  49.],\n",
       "       [168.,  33.,  86.,  95.,  48.],\n",
       "       [186.,  30.,  99.,  97.,  46.],\n",
       "       [189.,  41., 103.,  17.,  46.]])"
      ]
     },
     "execution_count": 90,
     "metadata": {},
     "output_type": "execute_result"
    }
   ],
   "source": [
    "cust_data1[INDEX2]"
   ]
  },
  {
   "cell_type": "code",
   "execution_count": null,
   "id": "a54d1e2b",
   "metadata": {},
   "outputs": [],
   "source": []
  }
 ],
 "metadata": {
  "kernelspec": {
   "display_name": "Python 3 (ipykernel)",
   "language": "python",
   "name": "python3"
  },
  "language_info": {
   "codemirror_mode": {
    "name": "ipython",
    "version": 3
   },
   "file_extension": ".py",
   "mimetype": "text/x-python",
   "name": "python",
   "nbconvert_exporter": "python",
   "pygments_lexer": "ipython3",
   "version": "3.10.2"
  }
 },
 "nbformat": 4,
 "nbformat_minor": 5
}
