{
 "cells": [
  {
   "cell_type": "code",
   "execution_count": 2,
   "id": "1acb8417",
   "metadata": {},
   "outputs": [
    {
     "data": {
      "text/plain": [
       "array([[  1.  , 337.  , 118.  , ...,   9.65,   1.  ,   0.92],\n",
       "       [  2.  , 324.  , 107.  , ...,   8.87,   1.  ,   0.76],\n",
       "       [  3.  , 316.  , 104.  , ...,   8.  ,   1.  ,   0.72],\n",
       "       ...,\n",
       "       [398.  , 330.  , 116.  , ...,   9.45,   1.  ,   0.91],\n",
       "       [399.  , 312.  , 103.  , ...,   8.78,   0.  ,   0.67],\n",
       "       [400.  , 333.  , 117.  , ...,   9.66,   1.  ,   0.95]])"
      ]
     },
     "execution_count": 2,
     "metadata": {},
     "output_type": "execute_result"
    }
   ],
   "source": [
    "import numpy as np\n",
    "\n",
    "from numpy import genfromtxt\n",
    "\n",
    "admpp = genfromtxt('DS1_C4_S2_Admission_Predict_Practice.csv',delimiter=',',skip_header=True)\n",
    "admpp"
   ]
  },
  {
   "cell_type": "markdown",
   "id": "e9d30e14",
   "metadata": {},
   "source": [
    "# TASK 1"
   ]
  },
  {
   "cell_type": "code",
   "execution_count": 25,
   "id": "18da7553",
   "metadata": {},
   "outputs": [
    {
     "name": "stdout",
     "output_type": "stream",
     "text": [
      "the total students with GRE score above 320 are : 162\n"
     ]
    }
   ],
   "source": [
    "grescore320 = np.where(admpp[:,1]>320)\n",
    "\n",
    "cnt = np.count_nonzero(grescore320)\n",
    "cnt\n",
    "print(\"the total students with GRE score above 320 are :\",cnt)"
   ]
  },
  {
   "cell_type": "markdown",
   "id": "5a373286",
   "metadata": {},
   "source": [
    "# TASK 2"
   ]
  },
  {
   "cell_type": "code",
   "execution_count": 22,
   "id": "258b6bb8",
   "metadata": {},
   "outputs": [
    {
     "name": "stdout",
     "output_type": "stream",
     "text": [
      "(array([  0,   5,  11,  12,  21,  22,  23,  24,  25,  32,  33,  34,  43,\n",
      "        44,  46,  47,  49,  52,  53,  64,  65,  66,  69,  70,  71,  72,\n",
      "        75,  76,  81,  83,  84,  97,  98,  99, 104, 106, 107, 108, 120,\n",
      "       121, 126, 127, 128, 129, 130, 133, 134, 138, 141, 142, 143, 144,\n",
      "       145, 147, 148, 150, 151, 152, 164, 171, 173, 174, 175, 176, 185,\n",
      "       187, 188, 189, 190, 192, 193, 202, 203, 212, 213, 214, 215, 216,\n",
      "       222, 228, 229, 234, 235, 236, 237, 242, 243, 249, 253, 254, 259,\n",
      "       263, 268, 276, 283, 284, 285, 286, 287, 297, 298, 299, 307, 318,\n",
      "       319, 325, 328, 330, 335, 337, 361, 362, 365, 372, 384, 385, 392,\n",
      "       394, 397, 399], dtype=int64),)\n"
     ]
    }
   ],
   "source": [
    "toe110 = np.where(admpp[:,2]>110)\n",
    "top = admpp[:,2][toe110]\n",
    "top.sort\n",
    "top1 = toe110[::-1]\n",
    "print(top1)"
   ]
  },
  {
   "cell_type": "markdown",
   "id": "bcb78804",
   "metadata": {},
   "source": [
    "# TASK 3"
   ]
  },
  {
   "cell_type": "code",
   "execution_count": null,
   "id": "33f570a3",
   "metadata": {},
   "outputs": [],
   "source": []
  },
  {
   "cell_type": "markdown",
   "id": "7075aca5",
   "metadata": {},
   "source": [
    "# TASK 4"
   ]
  },
  {
   "cell_type": "code",
   "execution_count": null,
   "id": "5a2713cb",
   "metadata": {},
   "outputs": [],
   "source": []
  },
  {
   "cell_type": "markdown",
   "id": "3d76804a",
   "metadata": {},
   "source": [
    "# TASK 5"
   ]
  },
  {
   "cell_type": "code",
   "execution_count": null,
   "id": "d8f9f106",
   "metadata": {},
   "outputs": [],
   "source": []
  },
  {
   "cell_type": "markdown",
   "id": "b7d7a001",
   "metadata": {},
   "source": [
    "# TASK 6"
   ]
  },
  {
   "cell_type": "code",
   "execution_count": null,
   "id": "cad1f2cf",
   "metadata": {},
   "outputs": [],
   "source": []
  },
  {
   "cell_type": "markdown",
   "id": "414b3020",
   "metadata": {},
   "source": [
    "# TASK 7"
   ]
  },
  {
   "cell_type": "code",
   "execution_count": null,
   "id": "6f234c53",
   "metadata": {},
   "outputs": [],
   "source": []
  },
  {
   "cell_type": "markdown",
   "id": "d9ec75f6",
   "metadata": {},
   "source": [
    "# TASK 8"
   ]
  },
  {
   "cell_type": "code",
   "execution_count": null,
   "id": "ad29c6ed",
   "metadata": {},
   "outputs": [],
   "source": []
  },
  {
   "cell_type": "markdown",
   "id": "8c9d271a",
   "metadata": {},
   "source": [
    "# TASK 9"
   ]
  },
  {
   "cell_type": "code",
   "execution_count": null,
   "id": "9590481b",
   "metadata": {},
   "outputs": [],
   "source": []
  },
  {
   "cell_type": "markdown",
   "id": "bd553ac0",
   "metadata": {},
   "source": [
    "# TASK 10"
   ]
  },
  {
   "cell_type": "code",
   "execution_count": null,
   "id": "c6046e81",
   "metadata": {},
   "outputs": [],
   "source": []
  },
  {
   "cell_type": "markdown",
   "id": "8f19e6b6",
   "metadata": {},
   "source": [
    "# TASK 11"
   ]
  },
  {
   "cell_type": "code",
   "execution_count": null,
   "id": "31caf991",
   "metadata": {},
   "outputs": [],
   "source": []
  }
 ],
 "metadata": {
  "kernelspec": {
   "display_name": "Python 3 (ipykernel)",
   "language": "python",
   "name": "python3"
  },
  "language_info": {
   "codemirror_mode": {
    "name": "ipython",
    "version": 3
   },
   "file_extension": ".py",
   "mimetype": "text/x-python",
   "name": "python",
   "nbconvert_exporter": "python",
   "pygments_lexer": "ipython3",
   "version": "3.10.2"
  }
 },
 "nbformat": 4,
 "nbformat_minor": 5
}
